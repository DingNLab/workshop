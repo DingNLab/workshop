{
 "cells": [
  {
   "cell_type": "markdown",
   "metadata": {
    "slideshow": {
     "slide_type": "slide"
    }
   },
   "source": [
    "# AI for Psycholinguisitcs\n",
    "主要内容：使用自然语言处理模型提取语言特征和进行语言任务"
   ]
  },
  {
   "cell_type": "markdown",
   "metadata": {
    "slideshow": {
     "slide_type": "fragment"
    }
   },
   "source": [
    "## 0. 加载工具包\n",
    "\n",
    "* 使用到的自然语言处理工具包\n",
    "    - **srilm**: 计算频次、转移概率。[[官方文档]](https://srilm-python.readthedocs.io/en/latest/#)。安装srilm可参考[[安装教程]](https://github.com/zhaoyanpeng/pysrilm)\n",
    "    - **hanlp**: 适用于基本自然语言处理任务，包括分词、词性分析、句法分析、语义分析、静态词向量提取等等，对于中文比较友好。[[官方文档]](https://hanlp.hankcs.com/docs/)\n",
    "    - **Huggingface系列**: 调用开源深度学习模型完成以上两者提到的，以及更多其他的任务，包括情感分析、文本生成等等。[[官网]](https://huggingface.co/)\n",
    "    - **openai**: 利用API调用大语言模型完成任务。\n",
    "* 其他常用的自然语言处理工具包\n",
    "    - **nltk**：可以调用众多语料库（如wordnet等），也可以进行一系列的自然语言处理任务。[[官方文档]](https://www.nltk.org/)\n",
    "    - **spacy**：速度快、功能全面的自然语言处理工具包。[[官方文档]](https://spacy.io/)\n",
    "    - **stanza**：Stanford CoreNLP的python版本\n",
    "    - **fastNLP**：复旦大学制作的NLP工具包"
   ]
  },
  {
   "cell_type": "code",
   "execution_count": 29,
   "metadata": {
    "slideshow": {
     "slide_type": "slide"
    }
   },
   "outputs": [],
   "source": [
    "# 如果在colab等服务器上运行，先用以下命令去掉#安装工具包\n",
    "# !pip install hanlp\n",
    "# !pip install transformers tokenizers openai==1.28.0\n",
    "\n",
    "# 如果只需要提取一部分特征，可以选择性地导入以下工具包\n",
    "import os\n",
    "os.environ['HF_ENDPOINT'] = \"https://hf-mirror.com\" # 镜像代理网站\n",
    "os.environ['HF_HOME'] = \"./model\"                   # 模型下载位置\n",
    "\n",
    "import re\n",
    "import json\n",
    "from collections import Counter, OrderedDict\n",
    "from IPython.display import clear_output\n",
    "from tqdm import tqdm\n",
    "\n",
    "# 数据处理及可视化\n",
    "import numpy as np\n",
    "import pandas as pd\n",
    "from matplotlib import pyplot as plt\n",
    "import matplotlib\n",
    "matplotlib.rc(\"font\", family='Arial')\n",
    "\n",
    "# 自然语言处理\n",
    "import hanlp\n",
    "import torch\n",
    "import torch.nn.functional as F\n",
    "from transformers import (BertTokenizer, GPT2LMHeadModel, TextGenerationPipeline, AutoModelForCausalLM,\n",
    "    AutoTokenizer, AutoModelForSequenceClassification, AutoModelForSeq2SeqLM, pipeline)\n",
    "\n",
    "import json\n",
    "from openai import OpenAI\n",
    "import warnings; warnings.filterwarnings('ignore')\n",
    "clear_output()"
   ]
  },
  {
   "cell_type": "markdown",
   "metadata": {
    "slideshow": {
     "slide_type": "slide"
    }
   },
   "source": [
    "## 1. 代码平台"
   ]
  },
  {
   "cell_type": "markdown",
   "metadata": {
    "slideshow": {
     "slide_type": "fragment"
    }
   },
   "source": [
    "### 1.1 Hanlp: 传统语言特征计算工具包\n",
    "* 更多代码示例请参考第2、3节"
   ]
  },
  {
   "cell_type": "code",
   "execution_count": 4,
   "metadata": {
    "slideshow": {
     "slide_type": "fragment"
    }
   },
   "outputs": [
    {
     "name": "stderr",
     "output_type": "stream",
     "text": [
      "                                   \r"
     ]
    },
    {
     "data": {
      "text/html": [
       "<div style=\"display: table; padding-bottom: 1rem;\"><pre style=\"display: table-cell; font-family: SFMono-Regular,Menlo,Monaco,Consolas,Liberation Mono,Courier New,monospace; white-space: nowrap; line-height: 128%; padding: 0;\">Dep&nbsp;Tre&nbsp;<br>───────&nbsp;<br>┌┬──┬──&nbsp;<br>││&nbsp;&nbsp;└─►&nbsp;<br>│└─►┌──&nbsp;<br>│&nbsp;&nbsp;&nbsp;└─►&nbsp;<br>└─────►&nbsp;</pre><pre style=\"display: table-cell; font-family: SFMono-Regular,Menlo,Monaco,Consolas,Liberation Mono,Courier New,monospace; white-space: nowrap; line-height: 128%; padding: 0;\">Tok&nbsp;<br>───&nbsp;<br>欢迎&nbsp;&nbsp;<br>大家&nbsp;&nbsp;<br>参加&nbsp;&nbsp;<br>工作坊&nbsp;<br>！&nbsp;&nbsp;&nbsp;</pre><pre style=\"display: table-cell; font-family: SFMono-Regular,Menlo,Monaco,Consolas,Liberation Mono,Courier New,monospace; white-space: nowrap; line-height: 128%; padding: 0;\">Relat&nbsp;<br>─────&nbsp;<br>root&nbsp;&nbsp;<br>dobj&nbsp;&nbsp;<br>dep&nbsp;&nbsp;&nbsp;<br>dobj&nbsp;&nbsp;<br>punct&nbsp;</pre><pre style=\"display: table-cell; font-family: SFMono-Regular,Menlo,Monaco,Consolas,Liberation Mono,Courier New,monospace; white-space: nowrap; line-height: 128%; padding: 0;\">Tok&nbsp;<br>───&nbsp;<br>欢迎&nbsp;&nbsp;<br>大家&nbsp;&nbsp;<br>参加&nbsp;&nbsp;<br>工作坊&nbsp;<br>！&nbsp;&nbsp;&nbsp;</pre><pre style=\"display: table-cell; font-family: SFMono-Regular,Menlo,Monaco,Consolas,Liberation Mono,Courier New,monospace; white-space: nowrap; line-height: 128%; padding: 0;\">P&nbsp;&nbsp;&nbsp;&nbsp;3&nbsp;&nbsp;&nbsp;&nbsp;&nbsp;&nbsp;&nbsp;4&nbsp;&nbsp;&nbsp;&nbsp;&nbsp;&nbsp;&nbsp;5&nbsp;&nbsp;&nbsp;&nbsp;&nbsp;&nbsp;&nbsp;6&nbsp;&nbsp;&nbsp;&nbsp;&nbsp;&nbsp;&nbsp;7&nbsp;<br>───────────────────────────────────────<br>_──────────────────────────┐&nbsp;&nbsp;&nbsp;&nbsp;&nbsp;&nbsp;&nbsp;&nbsp;&nbsp;&nbsp;&nbsp;<br>_───────────────────►NP────┤&nbsp;&nbsp;&nbsp;&nbsp;&nbsp;&nbsp;&nbsp;&nbsp;&nbsp;&nbsp;&nbsp;<br>_──────────┐&nbsp;&nbsp;&nbsp;&nbsp;&nbsp;&nbsp;&nbsp;&nbsp;&nbsp;&nbsp;&nbsp;&nbsp;&nbsp;&nbsp;&nbsp;├►VP&nbsp;───┐&nbsp;&nbsp;&nbsp;<br>_───►NP&nbsp;───┴►VP&nbsp;────►IP&nbsp;───┘&nbsp;&nbsp;&nbsp;&nbsp;&nbsp;&nbsp;&nbsp;├►IP<br>_──────────────────────────────────┘&nbsp;&nbsp;&nbsp;</pre></div>"
      ],
      "text/plain": [
       "<IPython.core.display.HTML object>"
      ]
     },
     "metadata": {},
     "output_type": "display_data"
    }
   ],
   "source": [
    "Hanlp = hanlp.load(hanlp.pretrained.mtl.CLOSE_TOK_POS_NER_SRL_DEP_SDP_CON_ELECTRA_SMALL_ZH) # 选择使用的模型\n",
    "doc = Hanlp('欢迎大家参加工作坊！', tasks=['dep', 'con']) \n",
    "doc.pretty_print()"
   ]
  },
  {
   "cell_type": "markdown",
   "metadata": {
    "slideshow": {
     "slide_type": "slide"
    }
   },
   "source": [
    "### 1.2 Huggingface: 语言模型搭建、加载、训练平台\n",
    "* 利用huggingface平台现有模型实现金融领域情感分析任务"
   ]
  },
  {
   "cell_type": "code",
   "execution_count": 5,
   "metadata": {
    "slideshow": {
     "slide_type": "fragment"
    }
   },
   "outputs": [
    {
     "name": "stdout",
     "output_type": "stream",
     "text": [
      "\n",
      "Input: 今年我国经济增长速度为3%\n",
      "Prediction: Positive, Score: 1.000\n"
     ]
    }
   ],
   "source": [
    "# 从huggingface平台上找到对应的模型路径\n",
    "model_path = 'hw2942/bert-base-chinese-finetuning-financial-news-sentiment-v2'\n",
    "\n",
    "# 使用transformers工具包加载模型\n",
    "tokenizer = AutoTokenizer.from_pretrained(model_path)\n",
    "model = AutoModelForSequenceClassification.from_pretrained(model_path)\n",
    "\n",
    "# 利用pipeline快速进行语言任务\n",
    "text = '今年我国经济增长速度为3%'\n",
    "text_classification = pipeline('sentiment-analysis', model=model, tokenizer=tokenizer)\n",
    "res = text_classification(text)[0]\n",
    "print(f\"\\nInput: {text}\\nPrediction: {res['label']}, Score: {res['score']:.3f}\")"
   ]
  },
  {
   "cell_type": "markdown",
   "metadata": {
    "slideshow": {
     "slide_type": "slide"
    }
   },
   "source": [
    "* 利用huggingface平台现有模型实现文本生成任务"
   ]
  },
  {
   "cell_type": "code",
   "execution_count": 6,
   "metadata": {
    "slideshow": {
     "slide_type": "fragment"
    }
   },
   "outputs": [
    {
     "name": "stdout",
     "output_type": "stream",
     "text": [
      "我 今 天 吃 了 烤 鸭 。 ， 真 的 是 很 好 吃 ！ 皮 脆 肉 嫩 ， 酱 汁 浓 郁 ， 口 感 非 常 棒 。 还 有 一 个 什 么 菜 忘 记 名 字 了 也 不 错 。 其 他 就 没 啥 印 象 了 。 总 体 来 说 味 道 都 挺 正 宗 的 。 价 格 适\n"
     ]
    }
   ],
   "source": [
    "model_name = 'uer/gpt2-chinese-cluecorpussmall'\n",
    "model = AutoModelForCausalLM.from_pretrained(model_name) # , torch_dtype=torch.float16,)\n",
    "model = model.eval()\n",
    "tokenizer = BertTokenizer.from_pretrained(model_name, use_fast=False)\n",
    "input_ids = tokenizer(['我今天吃了烤鸭。'], return_tensors=\"pt\").input_ids\n",
    "if torch.cuda.is_available():\n",
    "  input_ids = input_ids.to('cuda')\n",
    "  model = model.to('cuda')\n",
    "generate_input = {\n",
    "    \"input_ids\":input_ids, \"max_new_tokens\":64, \"do_sample\":True,\n",
    "    \"top_k\":50, \"top_p\":0.95, \"temperature\":0.3, \"repetition_penalty\":1.3,\n",
    "    \"eos_token_id\":tokenizer.eos_token_id,\n",
    "    \"bos_token_id\":tokenizer.bos_token_id,\n",
    "    \"pad_token_id\":tokenizer.unk_token_id,\n",
    "}\n",
    "generate_ids  = model.generate(**generate_input)\n",
    "text = tokenizer.decode(generate_ids[0], skip_special_tokens=True)\n",
    "print(text)"
   ]
  },
  {
   "cell_type": "markdown",
   "metadata": {
    "slideshow": {
     "slide_type": "slide"
    }
   },
   "source": [
    "### 1.3 Ollama: 开源模型部署\n",
    "* 安装 [ollama](https://ollama.com/)后，在命令行执行 `ollama run qwen:0.5b`即可开启对话。"
   ]
  },
  {
   "cell_type": "markdown",
   "metadata": {
    "slideshow": {
     "slide_type": "fragment"
    }
   },
   "source": [
    "### 1.4 OpenRouter: 闭源模型测试"
   ]
  },
  {
   "cell_type": "code",
   "execution_count": null,
   "metadata": {
    "slideshow": {
     "slide_type": "fragment"
    }
   },
   "outputs": [],
   "source": [
    "OPENROUTER_API_KEY = \"YOUR_API_KEY\"\n",
    "def send_message(sentence,):\n",
    "    client = OpenAI(base_url=\"https://openrouter.ai/api/v1\", \n",
    "                    api_key=OPENROUTER_API_KEY,)\n",
    "\n",
    "    resp = client.chat.completions.create(\n",
    "        extra_headers={},\n",
    "        model=\"openai/chatgpt-4o-latest\",\n",
    "        messages=[{\"role\": \"user\",\"content\": sentence,}],\n",
    "        temperature=0.7,\n",
    "        top_p=0.5,\n",
    "    )\n",
    "    resp_text = resp.choices[0].message.content\n",
    "    return resp, resp_text\n",
    "\n",
    "resp, resp_text = send_message(\"今天我吃了烤鸭，你怎么看\") \n",
    "resp_text"
   ]
  },
  {
   "cell_type": "markdown",
   "metadata": {
    "slideshow": {
     "slide_type": "slide"
    }
   },
   "source": [
    "## 2. 词汇及语义特征提取"
   ]
  },
  {
   "cell_type": "markdown",
   "metadata": {
    "slideshow": {
     "slide_type": "fragment"
    }
   },
   "source": [
    "### 2.1 基于语料库统计的N-gram计算（from scratch）\n",
    "\n",
    "* 从语料库中生成N-gram模型\n",
    "\n",
    "    现成的N-gram工具包：Install srilm: Refer to https://github.com/zhaoyanpeng/pysrilm\n",
    "    \n",
    "    现成的N-gram语料库：[google n-gram](http://storage.googleapis.com/books/ngrams/books/datasetsv2.html)。\n",
    "    "
   ]
  },
  {
   "cell_type": "code",
   "execution_count": 7,
   "metadata": {
    "slideshow": {
     "slide_type": "fragment"
    }
   },
   "outputs": [
    {
     "name": "stdout",
     "output_type": "stream",
     "text": [
      "我喜欢吃西瓜。我喜欢吃西瓜。\n",
      "我喜欢吃西瓜。我喜欢吃西瓜。\n",
      "我喜欢吃桌子。\n",
      "我喜欢吃。\n",
      "我喜欢吃苹果。我喜欢吃苹果。我喜欢吃苹果。\n",
      "我喜欢吃剩饭。我喜欢吃剩饭。\n",
      "我喜欢睡觉。\n"
     ]
    }
   ],
   "source": [
    "# 设置corpus\n",
    "corpus = 'corpus.txt'\n",
    "with open(corpus, 'r') as file:\n",
    "    content = file.read()\n",
    "    print(content)"
   ]
  },
  {
   "cell_type": "code",
   "execution_count": 9,
   "metadata": {
    "slideshow": {
     "slide_type": "slide"
    }
   },
   "outputs": [
    {
     "name": "stderr",
     "output_type": "stream",
     "text": [
      "                                   \r"
     ]
    },
    {
     "name": "stdout",
     "output_type": "stream",
     "text": [
      "我 喜欢 吃 西瓜 。 我 喜欢 吃 西瓜 。 我 喜欢 吃 西瓜 。 我 喜欢 吃 西瓜 。 我 喜欢 吃 桌子 。 我 喜欢 吃 。 我 喜欢 吃 苹果 。 我 喜欢 吃 苹果 。 我 喜欢 吃 苹果 。 我 喜欢 吃 剩饭 。 我 喜欢 吃 剩饭 。 我 喜欢 睡觉 。\n"
     ]
    }
   ],
   "source": [
    "def prepare_corpus(tokenizer, corpus):\n",
    "    '''\n",
    "    # 对语料库进行分词        \n",
    "    '''\n",
    "    with open(corpus, mode='r', encoding='utf-8') as f:\n",
    "        texts = f.readlines()\n",
    "    texts_tokenized = []\n",
    "    for line in texts:\n",
    "        texts_tokenized.append(' '.join(tokenizer(line)))\n",
    "    return texts_tokenized\n",
    "\n",
    "# 加载hanlp中的分词模型\n",
    "hanlp_tok = hanlp.load(hanlp.pretrained.tok.COARSE_ELECTRA_SMALL_ZH)\n",
    "\n",
    "# 分词\n",
    "text = prepare_corpus(hanlp_tok, corpus)\n",
    "print(*text)"
   ]
  },
  {
   "cell_type": "code",
   "execution_count": 10,
   "metadata": {
    "slideshow": {
     "slide_type": "slide"
    }
   },
   "outputs": [
    {
     "name": "stdout",
     "output_type": "stream",
     "text": [
      "find all unigram: ('我',) ('喜欢',) ('吃',) ('西瓜',) ('。',) ('我',) ('喜欢',) ('吃',) ('西瓜',) ('。',) ...\n",
      "Counter({('我',): 12, ('喜欢',): 12, ('。',): 12, ('吃',): 11, ('西瓜',): 4, ('苹果',): 3, ('剩饭',): 2, ('桌子',): 1, ('睡觉',): 1})\n"
     ]
    }
   ],
   "source": [
    "!pip install nltk\n",
    "clear_output()\n",
    "from nltk import ngrams\n",
    "from collections import Counter\n",
    "\n",
    "unigrams = []; n = 1\n",
    "for i in text:\n",
    "    unigrams += ngrams(i.split(' '), n=n)\n",
    "print('find all unigram:', *unigrams[:10], '...')\n",
    "print(Counter(unigrams))"
   ]
  },
  {
   "cell_type": "markdown",
   "metadata": {
    "slideshow": {
     "slide_type": "slide"
    }
   },
   "source": [
    "*  采用N-gram模型计算词频\n",
    "\n",
    "    建立语言模型（LM），根据统计好的ngrams来生成 $p \\left( \\rm{word} | context \\right)$，word是当前单词，context为上下文。当context是空列表`[]`时相当于1-gram即词频"
   ]
  },
  {
   "cell_type": "code",
   "execution_count": 11,
   "metadata": {
    "slideshow": {
     "slide_type": "fragment"
    }
   },
   "outputs": [],
   "source": [
    "def prob(ngrams: list, word: str, context: list):\n",
    "    counter = Counter(ngrams) # counting\n",
    "    counter_context = {i:counter[i] for i in counter.keys() if list(i[:-1])==context[::-1]} # find matched context\n",
    "    target_word = [counter_context[i] for i in counter_context.keys() if i[-1]==word]       # find target word\n",
    "    if len(target_word) == 0:\n",
    "        return 0\n",
    "    else:\n",
    "        return target_word[0]/sum(list(counter_context.values()))"
   ]
  },
  {
   "cell_type": "code",
   "execution_count": 12,
   "metadata": {
    "slideshow": {
     "slide_type": "fragment"
    }
   },
   "outputs": [
    {
     "name": "stdout",
     "output_type": "stream",
     "text": [
      "P(西瓜): 0.06896551724137931\n",
      "P(桌子): 0.017241379310344827\n"
     ]
    }
   ],
   "source": [
    "# 计算词频\n",
    "word_freq1 = prob(unigrams, '西瓜', [])\n",
    "word_freq2 = prob(unigrams, '桌子', [])\n",
    "\n",
    "# 输出结果\n",
    "print('P(西瓜): ' + str(word_freq1))\n",
    "print('P(桌子): ' + str(word_freq2))"
   ]
  },
  {
   "cell_type": "markdown",
   "metadata": {
    "slideshow": {
     "slide_type": "slide"
    }
   },
   "source": [
    "* 采用N-gram模型计算转移概率（transition probability）\n",
    "\n",
    "    当$n>1$时，在`context`中放入前$n-1$个词，顺序是从右到左。"
   ]
  },
  {
   "cell_type": "code",
   "execution_count": 13,
   "metadata": {
    "slideshow": {
     "slide_type": "fragment"
    }
   },
   "outputs": [
    {
     "name": "stdout",
     "output_type": "stream",
     "text": [
      "Counter({('我',): 12, ('喜欢',): 12, ('。',): 12, ('我', '喜欢'): 12, ('吃',): 11, ('喜欢', '吃'): 11, ('我', '喜欢', '吃'): 11, ('。', '我'): 5, ('。', '我', '喜欢'): 5, ('。', '我', '喜欢', '吃'): 5, ('西瓜',): 4, ('吃', '西瓜'): 4, ('西瓜', '。'): 4, ('喜欢', '吃', '西瓜'): 4, ('吃', '西瓜', '。'): 4, ('我', '喜欢', '吃', '西瓜'): 4, ('喜欢', '吃', '西瓜', '。'): 4, ('苹果',): 3, ('吃', '苹果'): 3, ('苹果', '。'): 3, ('喜欢', '吃', '苹果'): 3, ('吃', '苹果', '。'): 3, ('我', '喜欢', '吃', '苹果'): 3, ('喜欢', '吃', '苹果', '。'): 3, ('剩饭',): 2, ('吃', '剩饭'): 2, ('剩饭', '。'): 2, ('西瓜', '。', '我'): 2, ('苹果', '。', '我'): 2, ('喜欢', '吃', '剩饭'): 2, ('吃', '剩饭', '。'): 2, ('吃', '西瓜', '。', '我'): 2, ('西瓜', '。', '我', '喜欢'): 2, ('吃', '苹果', '。', '我'): 2, ('苹果', '。', '我', '喜欢'): 2, ('我', '喜欢', '吃', '剩饭'): 2, ('喜欢', '吃', '剩饭', '。'): 2, ('桌子',): 1, ('睡觉',): 1, ('吃', '桌子'): 1, ('桌子', '。'): 1, ('吃', '。'): 1, ('喜欢', '睡觉'): 1, ('睡觉', '。'): 1, ('喜欢', '吃', '桌子'): 1, ('吃', '桌子', '。'): 1, ('喜欢', '吃', '。'): 1, ('剩饭', '。', '我'): 1, ('我', '喜欢', '睡觉'): 1, ('喜欢', '睡觉', '。'): 1, ('我', '喜欢', '吃', '桌子'): 1, ('喜欢', '吃', '桌子', '。'): 1, ('我', '喜欢', '吃', '。'): 1, ('吃', '剩饭', '。', '我'): 1, ('剩饭', '。', '我', '喜欢'): 1, ('我', '喜欢', '睡觉', '。'): 1}) \n",
      "\n",
      "==========P(西瓜 | 吃, 喜欢) vs P(桌子 | 吃, 喜欢)==========\n",
      "P(西瓜 | 吃, 喜欢): 0.36363636363636365\n",
      "P(桌子 | 吃, 喜欢): 0.09090909090909091\n"
     ]
    }
   ],
   "source": [
    "ngrams_all = []; \n",
    "for n in range(1, 5):\n",
    "    for i in text:\n",
    "        ngrams_all += ngrams(i.split(' '), n=n)\n",
    "# print('find all unigram:', *trigrams[:10], '...')\n",
    "print(Counter(ngrams_all), '\\n')\n",
    "\n",
    "tp1 = prob(ngrams_all, '西瓜', ['吃', '喜欢'])\n",
    "tp2 = prob(ngrams_all, '桌子', ['吃', '喜欢'])\n",
    "print('='*10 + 'P(西瓜 | 吃, 喜欢) vs P(桌子 | 吃, 喜欢)' + '='*10)\n",
    "print('P(西瓜 | 吃, 喜欢): ' + str(tp1))\n",
    "print('P(桌子 | 吃, 喜欢): ' + str(tp2))"
   ]
  },
  {
   "cell_type": "markdown",
   "metadata": {
    "slideshow": {
     "slide_type": "slide"
    }
   },
   "source": [
    "* 采用N-gram模型计算surprisal\n",
    "$\\rm{surprisal} = -\\log{ \\it{p} \\left( \\rm{word} | context \\right)}$，所以只要取负对数即可。"
   ]
  },
  {
   "cell_type": "code",
   "execution_count": 14,
   "metadata": {
    "slideshow": {
     "slide_type": "fragment"
    }
   },
   "outputs": [
    {
     "name": "stdout",
     "output_type": "stream",
     "text": [
      "==========surprisal(西瓜 | 吃, 喜欢) vs surprisal(桌子 | 吃, 喜欢)==========\n",
      "surprisal(西瓜 | 吃, 喜欢): 1.0116009116784799\n",
      "surprisal(桌子 | 吃, 喜欢): 2.3978952727983707\n"
     ]
    }
   ],
   "source": [
    "surprisal1 = -np.log(prob(ngrams_all, '西瓜', ['吃', '喜欢']))\n",
    "surprisal2 = -np.log(prob(ngrams_all, '桌子', ['吃', '喜欢']))\n",
    "print('='*10 + 'surprisal(西瓜 | 吃, 喜欢) vs surprisal(桌子 | 吃, 喜欢)' + '='*10)\n",
    "print('surprisal(西瓜 | 吃, 喜欢): ' + str(surprisal1))\n",
    "print('surprisal(桌子 | 吃, 喜欢): ' + str(surprisal2))"
   ]
  },
  {
   "cell_type": "markdown",
   "metadata": {
    "slideshow": {
     "slide_type": "slide"
    }
   },
   "source": [
    "* 2.2.5 采用N-gram模型计算entropy\n",
    "$\\rm{entropy} = \\sum \\left( p*surprisal \\right)$，所以对于给定的context，对所有的词来计算surprisal然后求期望"
   ]
  },
  {
   "cell_type": "code",
   "execution_count": 15,
   "metadata": {
    "slideshow": {
     "slide_type": "fragment"
    }
   },
   "outputs": [
    {
     "name": "stdout",
     "output_type": "stream",
     "text": [
      "{'桌子', '喜欢', '。', '西瓜', '苹果', '我', '吃', '睡觉', '剩饭'}\n",
      "entropy(喜欢, 我): 0.287\n",
      "entropy(吃, 喜欢, 我): 1.468\n"
     ]
    }
   ],
   "source": [
    "# 构建vocabulary\n",
    "vocab = [i.split(' ') for i in text]\n",
    "vocab = set([i for j in vocab for i in j])\n",
    "print(vocab)\n",
    "# 计算entropy\n",
    "def calculate_entropy(ngrams, context):\n",
    "    probs = np.array([prob(ngrams, i, context) for i in vocab])\n",
    "    probs = probs[probs > 0]\n",
    "    logprobs = np.log(probs)\n",
    "    return sum(-np.power(np.e, logprobs)*logprobs)\n",
    "\n",
    "entropy1 = calculate_entropy(ngrams_all, ['喜欢', '我'])\n",
    "entropy2 = calculate_entropy(ngrams_all, ['吃', '喜欢', '我'])\n",
    "print(f'entropy(喜欢, 我): {entropy1:.3f}')\n",
    "print(f'entropy(吃, 喜欢, 我): {entropy2:.3f}')"
   ]
  },
  {
   "cell_type": "markdown",
   "metadata": {
    "slideshow": {
     "slide_type": "slide"
    }
   },
   "source": [
    "### 2.2 基于深度学习模型的转移概率计算\n",
    "\n",
    "以gpt-2为例，采用的模型为[gpt2-chinese-cluecorpussmall](https://huggingface.co/uer/gpt2-chinese-cluecorpussmall)"
   ]
  },
  {
   "cell_type": "markdown",
   "metadata": {
    "slideshow": {
     "slide_type": "fragment"
    }
   },
   "source": [
    "* 加载模型，包括分词模型与语言模型\n"
   ]
  },
  {
   "cell_type": "code",
   "execution_count": 16,
   "metadata": {
    "slideshow": {
     "slide_type": "fragment"
    }
   },
   "outputs": [],
   "source": [
    "from transformers import BertTokenizer, GPT2LMHeadModel\n",
    "ckpt_path = \"uer/gpt2-chinese-cluecorpussmall\" # checkpoint模型路径\n",
    "tokenizer = BertTokenizer.from_pretrained(ckpt_path) # 分词器\n",
    "model = GPT2LMHeadModel.from_pretrained(ckpt_path) # 语言模型"
   ]
  },
  {
   "cell_type": "markdown",
   "metadata": {
    "slideshow": {
     "slide_type": "slide"
    }
   },
   "source": [
    "* 获取模型的转移概率"
   ]
  },
  {
   "cell_type": "code",
   "execution_count": 17,
   "metadata": {
    "slideshow": {
     "slide_type": "fragment"
    }
   },
   "outputs": [
    {
     "name": "stdout",
     "output_type": "stream",
     "text": [
      "==========输入tokens: ==========\n",
      "['[CLS]', '蝴', '蝶', '飞', '舞', '。', '绵', '羊', '吃', '草', '。', '[SEP]']\n",
      "==========转移概率维度: ==========\n",
      "torch.Size([12, 21128])  输入字数 x 总字数\n"
     ]
    }
   ],
   "source": [
    "model.config.output_hidden_states = True  # 在模型设置config中设置为True，可以让模型输出hidden states\n",
    "inputs = tokenizer('蝴蝶飞舞。绵羊吃草。', return_tensors=\"pt\") # 对句子进行分词\n",
    "\n",
    "tks = tokenizer.convert_ids_to_tokens(inputs['input_ids'][0])\n",
    "print('='*10 + '输入tokens: ' + '='*10)\n",
    "print(tks)\n",
    "\n",
    "outputs = model(**inputs)  # 将分词后的句子输入模型，得到模型输出的结果\n",
    "probs = outputs.logits[0]\n",
    "print('='*10 + '转移概率维度: ' + '='*10)\n",
    "print(str(probs.shape) + '  输入字数 x 总字数')"
   ]
  },
  {
   "cell_type": "markdown",
   "metadata": {
    "slideshow": {
     "slide_type": "slide"
    }
   },
   "source": [
    "* 获取模型的surprisal与entropy"
   ]
  },
  {
   "cell_type": "code",
   "execution_count": 18,
   "metadata": {
    "slideshow": {
     "slide_type": "fragment"
    }
   },
   "outputs": [
    {
     "name": "stdout",
     "output_type": "stream",
     "text": [
      "\n",
      "==========================================\n",
      "previous tokens: ['[CLS]']\n",
      "tokens (top k): ['如', '很', '这', '有', '不', '书', '你', '为', '我', '一']\n",
      "surprisal of 蝴: 4.849289608278887; entropy: 2.7137675285339355; \n",
      "\n",
      "==========================================\n",
      "previous tokens: ['[CLS]', '蝴']\n",
      "tokens (top k): ['蝶', '蜓', '[UNK]', '蛹', '-', '蝴', '蜢', '##ser', '##e', '~']\n",
      "surprisal of 蝶: 0.00013581902527431; entropy: 0.002098203171044588; \n",
      "\n",
      "==========================================\n",
      "previous tokens: ['[CLS]', '蝴', '蝶']\n",
      "tokens (top k): ['蝶', '（', '变', '的', '是', '酥', '属', '超', '结', '飞']\n",
      "surprisal of 飞: 1.8757990225510126; entropy: 2.705557346343994; \n",
      "\n",
      "==========================================\n",
      "previous tokens: ['[CLS]', '蝴', '蝶', '飞']\n",
      "tokens (top k): ['机', '行', '蝶', '蛾', '舞', '翔', '碟', '鸟', '鱼', '龙']\n",
      "surprisal of 舞: 1.3007887019390816; entropy: 1.6138792037963867; \n",
      "\n",
      "==========================================\n",
      "previous tokens: ['[CLS]', '蝴', '蝶', '飞', '舞']\n",
      "tokens (top k): ['蝴', '蝶', '的', '是', '（', '(', '，', '-', '[SEP]', '《']\n",
      "surprisal of 。: 2.8688559054778087; entropy: 2.5130739212036133; \n",
      "\n",
      "==========================================\n",
      "previous tokens: ['[CLS]', '蝴', '蝶', '飞', '舞', '。']\n",
      "tokens (top k): ['蝴', '[SEP]', '蝶', '这', '一', '是', '。', '我', '不', '飞']\n",
      "surprisal of 绵: 4.865469761139821; entropy: 2.3376171588897705; \n",
      "\n",
      "==========================================\n",
      "previous tokens: ['[CLS]', '蝴', '蝶', '飞', '舞', '。', '绵']\n",
      "tokens (top k): ['绵', '羊', '长', '密', '綿', '阳', '[UNK]', '延', '软', '柔']\n",
      "surprisal of 羊: 1.1589600405092677; entropy: 0.846694827079773; \n",
      "\n",
      "==========================================\n",
      "previous tokens: ['[CLS]', '蝴', '蝶', '飞', '舞', '。', '绵', '羊']\n",
      "tokens (top k): ['羔', '毛', '脂', '蝎', '角', '，', '驼', '绒', '羊', '年']\n",
      "surprisal of 吃: 4.274023886884934; entropy: 2.755202054977417; \n",
      "\n",
      "==========================================\n",
      "previous tokens: ['[CLS]', '蝴', '蝶', '飞', '舞', '。', '绵', '羊', '吃']\n",
      "tokens (top k): ['了', '羊', '的', '。', '草', '食', '起', '完', '，', '饭']\n",
      "surprisal of 草: 1.7058207317311298; entropy: 2.481321096420288; \n",
      "\n",
      "==========================================\n",
      "previous tokens: ['[CLS]', '蝴', '蝶', '飞', '舞', '。', '绵', '羊', '吃', '草']\n",
      "tokens (top k): ['。', '莓', '，', '原', '的', '蜢', '（', '地', '草', '[SEP]']\n",
      "surprisal of 。: 0.7054178348940874; entropy: 1.960336446762085; \n",
      "\n",
      "==========================================\n",
      "previous tokens: ['[CLS]', '蝴', '蝶', '飞', '舞', '。', '绵', '羊', '吃', '草', '。']\n",
      "tokens (top k): ['[SEP]', '绵', '这', '我', '羊', '。', '蝴', '一', '小', '不']\n",
      "surprisal of [SEP]: 0.6934592986693343; entropy: 2.735353469848633; \n"
     ]
    }
   ],
   "source": [
    "probs_sfm = F.softmax(probs, dim=-1)\n",
    "input_ids_ = inputs['input_ids'][0]\n",
    "prob_target = [probs_sfm[idx, in_id_tmp].item() for idx, in_id_tmp in enumerate(input_ids_[1:])]\n",
    "\n",
    "gpt_surprisal = -np.log10(prob_target)\n",
    "gpt_entropy = -(torch.log10(probs_sfm) * probs_sfm).nansum(dim=-1)\n",
    "tks = tokenizer.convert_ids_to_tokens(inputs['input_ids'][0])\n",
    "for idx in range(len(tks)-1):\n",
    "    print('\\n==========================================')\n",
    "    print(f'previous tokens: {tks[:idx+1]}')\n",
    "\n",
    "    prob_sort_idx = probs_sfm[idx, :].argsort(descending=True)\n",
    "    pred_tks = tokenizer.convert_ids_to_tokens(prob_sort_idx)\n",
    "    print(f'tokens (top k): {pred_tks[:10]}')\n",
    "    # print(f'prob of tokens (top k): {probs_sfm[idx, prob_sort_idx[:10]]}')\n",
    "\n",
    "    print(f'surprisal of {tks[idx+1]}: {gpt_surprisal[idx]}; entropy: {gpt_entropy[idx]}; ')"
   ]
  },
  {
   "cell_type": "markdown",
   "metadata": {
    "slideshow": {
     "slide_type": "slide"
    }
   },
   "source": [
    "### 2.3 词性"
   ]
  },
  {
   "cell_type": "code",
   "execution_count": 19,
   "metadata": {
    "slideshow": {
     "slide_type": "fragment"
    }
   },
   "outputs": [
    {
     "name": "stderr",
     "output_type": "stream",
     "text": [
      "Building model \u001b[5m\u001b[33m...\u001b[0m\u001b[0m"
     ]
    },
    {
     "name": "stdout",
     "output_type": "stream",
     "text": [
      "0. 分词结果：\n",
      "['这个', '门', '被', '锁', '了', '，', '锁', '很难', '被', '打开', '。']\n"
     ]
    },
    {
     "name": "stderr",
     "output_type": "stream",
     "text": [
      "                                   \r"
     ]
    },
    {
     "name": "stdout",
     "output_type": "stream",
     "text": [
      "1. 词性标注：\n",
      "['DT', 'NN', 'SB', 'VV', 'SP', 'PU', 'VV', 'AD', 'SB', 'VV', 'PU']\n"
     ]
    }
   ],
   "source": [
    "## 分词\n",
    "sent_ex = '这个门被锁了，锁很难被打开。'\n",
    "tok = hanlp.load(hanlp.pretrained.tok.COARSE_ELECTRA_SMALL_ZH)\n",
    "tks = tok(sent_ex)\n",
    "print('0. 分词结果：')\n",
    "print(tks)\n",
    "\n",
    "## 词性标注\n",
    "pos = hanlp.load(hanlp.pretrained.pos.CTB9_POS_ELECTRA_SMALL)\n",
    "print('1. 词性标注：')\n",
    "print(pos(tks))"
   ]
  },
  {
   "cell_type": "markdown",
   "metadata": {
    "slideshow": {
     "slide_type": "slide"
    }
   },
   "source": [
    "### 2.4 词向量"
   ]
  },
  {
   "cell_type": "markdown",
   "metadata": {
    "slideshow": {
     "slide_type": "fragment"
    }
   },
   "source": [
    "#### 2.4.1 获取静态词向量：以word2vec为例\n",
    "* hanlp支持调用各种静态词向量， 包括[word2vec](https://hanlp.hankcs.com/docs/api/hanlp/pretrained/word2vec.html), [glove](https://hanlp.hankcs.com/docs/api/hanlp/pretrained/glove.html)等等，具体的模型及文献可以在链接文档中进行选择，一般情况下维度越高越准确。"
   ]
  },
  {
   "cell_type": "code",
   "execution_count": 20,
   "metadata": {
    "slideshow": {
     "slide_type": "fragment"
    }
   },
   "outputs": [
    {
     "name": "stderr",
     "output_type": "stream",
     "text": [
      "                                                        \r"
     ]
    },
    {
     "data": {
      "text/plain": [
       "tensor([ 1.4234e-02,  8.3600e-02,  2.4145e-02, -1.0256e-01, -1.0829e-01,\n",
       "        -2.6786e-02, -9.6481e-02,  9.0537e-02, -5.4941e-02,  4.5936e-02,\n",
       "        -4.2577e-02, -5.1776e-02,  4.9661e-02, -3.2703e-02, -6.6407e-03,\n",
       "         9.8313e-03,  4.2377e-02, -7.1969e-02,  6.7363e-02, -1.2679e-01,\n",
       "         1.3423e-03,  1.8129e-02,  1.3923e-02,  6.0298e-02,  2.9974e-02,\n",
       "         3.4969e-02,  4.7053e-02, -1.4874e-02,  6.6235e-02, -1.5579e-01,\n",
       "        -1.1716e-01,  8.8726e-02,  6.0976e-02, -8.0692e-02, -3.1017e-02,\n",
       "        -1.3132e-02,  5.4841e-02,  4.0733e-02, -1.5295e-01, -7.8516e-02,\n",
       "         6.6119e-02,  2.9393e-02, -3.0162e-02, -4.3704e-02,  8.3047e-03,\n",
       "        -7.7654e-02, -1.5644e-02,  6.2678e-02,  7.3149e-02, -1.9128e-02,\n",
       "         2.7543e-02, -1.4893e-02, -1.2223e-02,  9.6474e-02,  2.1985e-02,\n",
       "         4.4640e-02, -2.4626e-02,  9.8536e-02, -1.3777e-01,  5.1621e-02,\n",
       "         9.5042e-02, -3.2784e-02,  2.8697e-02, -1.3267e-02,  1.1536e-02,\n",
       "        -9.0047e-02, -7.2654e-02, -8.7082e-04, -3.6991e-02,  1.6448e-03,\n",
       "         2.6809e-02, -7.5198e-02, -2.6094e-02,  6.5516e-03, -7.2922e-02,\n",
       "        -6.3720e-02, -6.4798e-03,  1.3006e-02,  1.7040e-02, -4.3527e-02,\n",
       "         1.6448e-03, -4.0217e-02,  2.1293e-02, -4.1442e-02, -4.9964e-02,\n",
       "         1.0784e-02,  1.2986e-01, -1.7174e-02,  9.0332e-02,  8.1890e-04,\n",
       "        -4.3150e-02, -6.7029e-02, -4.6127e-02, -6.4486e-02, -1.8022e-02,\n",
       "         1.3425e-02,  6.9962e-02, -1.4400e-02,  6.0225e-03, -3.7480e-03,\n",
       "         8.5195e-03, -2.2870e-02, -4.1049e-02, -1.8603e-02, -5.3075e-02,\n",
       "        -7.1510e-02,  9.2589e-03, -6.3029e-03, -2.4524e-02, -3.4340e-02,\n",
       "        -8.8730e-02,  1.5332e-02,  2.8820e-02,  1.8295e-02, -5.8320e-02,\n",
       "        -2.7167e-02, -1.7402e-02, -7.7428e-02, -1.0769e-01, -1.0446e-01,\n",
       "         4.5363e-02, -6.3230e-02,  8.3784e-02,  5.3965e-02,  2.0121e-02,\n",
       "        -3.7716e-02, -2.0752e-02, -6.2321e-02, -1.3778e-01,  5.0385e-02,\n",
       "         8.9087e-06, -8.1429e-02,  6.1611e-02, -4.1132e-02,  7.4521e-02,\n",
       "        -5.0390e-02, -1.6549e-02,  4.1053e-02, -1.7056e-02, -1.2268e-02,\n",
       "        -1.3683e-02,  1.0725e-02, -5.9534e-02, -3.3246e-02,  3.8279e-02,\n",
       "        -3.6564e-02,  6.8516e-02,  6.6845e-02,  4.3522e-02, -2.3375e-02,\n",
       "        -1.3111e-02,  1.4433e-03,  3.9912e-02,  3.8543e-03,  8.9713e-02,\n",
       "         1.9988e-02,  9.5058e-04, -7.2403e-02, -3.7107e-02, -6.4932e-02,\n",
       "        -2.1959e-02,  3.4034e-02, -2.9596e-02, -6.8593e-02, -1.9584e-02,\n",
       "         4.0717e-02, -1.0285e-01, -6.5889e-03,  9.2453e-03, -4.2289e-02,\n",
       "        -5.7992e-02,  3.3845e-02,  1.3048e-02, -5.1361e-02,  7.8392e-02,\n",
       "        -1.9344e-02, -1.0448e-01,  4.1529e-02, -9.7657e-02, -3.4509e-03,\n",
       "         4.9083e-02,  5.5863e-02,  8.7877e-03, -1.1969e-01,  7.1582e-02,\n",
       "         2.4624e-02, -2.8234e-03, -1.0275e-01, -8.0798e-02, -1.2945e-01,\n",
       "         1.7228e-02, -8.7083e-02, -4.5541e-02, -3.6977e-02,  7.5634e-02,\n",
       "         6.3264e-02, -1.0102e-01, -9.6761e-02, -1.7960e-02, -1.6474e-02,\n",
       "         6.5089e-02, -5.6679e-02,  1.7903e-02, -6.3342e-02,  2.1894e-02,\n",
       "        -8.5694e-03, -2.0418e-02,  9.6943e-02,  6.6336e-02,  5.3024e-02,\n",
       "         7.7205e-02,  7.5687e-02, -2.4854e-02, -8.4196e-02,  7.2153e-02,\n",
       "        -3.3994e-02,  2.7743e-02,  7.6132e-02,  1.2271e-01,  8.2420e-02,\n",
       "         2.2781e-02,  6.0472e-03, -1.5400e-01, -1.1090e-01, -1.8680e-03,\n",
       "         9.7762e-02,  3.7373e-03, -2.6415e-02,  1.7530e-02,  9.8943e-03,\n",
       "        -4.3207e-02,  4.6805e-02,  1.3863e-02, -5.2318e-02, -3.4550e-03,\n",
       "        -3.7918e-02,  2.9433e-02,  3.3142e-02,  8.7807e-03,  3.0049e-02,\n",
       "         8.8094e-02,  1.4916e-03, -1.7431e-02, -2.5317e-02, -1.6277e-02,\n",
       "         1.1268e-02,  9.4293e-02,  3.3744e-02, -3.4135e-02,  6.1734e-04,\n",
       "        -5.8349e-02,  1.2800e-01,  2.4264e-03, -1.0573e-01, -2.0444e-02,\n",
       "         3.9112e-02, -1.4461e-01,  6.4038e-02, -8.3256e-03, -4.6320e-02,\n",
       "        -1.3400e-02,  1.2040e-02,  7.3522e-02, -1.6663e-02, -1.2628e-03,\n",
       "        -2.7094e-02, -1.8414e-03,  6.0205e-02, -6.7361e-02,  5.6380e-02,\n",
       "         2.3484e-03, -4.5203e-03,  4.1993e-02,  2.9977e-02, -1.2228e-02,\n",
       "         2.8904e-03, -1.7870e-02, -1.3307e-02, -4.5424e-02, -3.1245e-02,\n",
       "         4.0651e-03,  1.0091e-01,  6.3333e-02,  1.5903e-01,  9.9152e-02,\n",
       "        -2.0661e-02,  6.4784e-03,  1.3163e-03,  2.6181e-02, -9.9187e-03,\n",
       "         1.4386e-02, -4.5888e-02,  5.6548e-02,  3.5045e-02,  5.5262e-02,\n",
       "         3.0622e-02,  9.1758e-03, -1.0747e-01,  5.5859e-03, -5.0639e-02])"
      ]
     },
     "execution_count": 20,
     "metadata": {},
     "output_type": "execute_result"
    }
   ],
   "source": [
    "word2vec = hanlp.load(hanlp.pretrained.word2vec.MERGE_SGNS_BIGRAM_CHAR_300_ZH) # 加载word2vec词向量\n",
    "word2vec('中国')"
   ]
  },
  {
   "cell_type": "markdown",
   "metadata": {
    "slideshow": {
     "slide_type": "slide"
    }
   },
   "source": [
    "- 词向量捕获了性别信息和首都信息"
   ]
  },
  {
   "cell_type": "code",
   "execution_count": 21,
   "metadata": {
    "slideshow": {
     "slide_type": "fragment"
    }
   },
   "outputs": [
    {
     "name": "stdout",
     "output_type": "stream",
     "text": [
      "tensor(0.1429)\n",
      "tensor(0.0366)\n"
     ]
    }
   ],
   "source": [
    "print(torch.nn.functional.cosine_similarity(\n",
    "    word2vec('国王')-word2vec('王妃'), word2vec('男')-word2vec('女'), dim=0))\n",
    "print(torch.nn.functional.cosine_similarity(\n",
    "    word2vec('公主')-word2vec('王妃'), word2vec('男')-word2vec('女'), dim=0))"
   ]
  },
  {
   "cell_type": "code",
   "execution_count": 22,
   "metadata": {
    "slideshow": {
     "slide_type": "fragment"
    }
   },
   "outputs": [
    {
     "name": "stdout",
     "output_type": "stream",
     "text": [
      "tensor(0.4674)\n",
      "tensor(0.3933)\n"
     ]
    }
   ],
   "source": [
    "print(torch.nn.functional.cosine_similarity(\n",
    "    word2vec('日本')-word2vec('东京'), word2vec('中国')-word2vec('北京'), dim=0))\n",
    "print(torch.nn.functional.cosine_similarity(\n",
    "    word2vec('韩国')-word2vec('东京'), word2vec('中国')-word2vec('北京'), dim=0))\n"
   ]
  },
  {
   "cell_type": "markdown",
   "metadata": {
    "slideshow": {
     "slide_type": "slide"
    }
   },
   "source": [
    "- 计算相似词"
   ]
  },
  {
   "cell_type": "code",
   "execution_count": 23,
   "metadata": {
    "slideshow": {
     "slide_type": "fragment"
    }
   },
   "outputs": [
    {
     "name": "stdout",
     "output_type": "stream",
     "text": [
      "{'上海': 0.6443496942520142, '天津': 0.6384099721908569, '西安': 0.6117184162139893, '南京': 0.6113559603691101, '北京市': 0.6093109846115112, '海淀': 0.6049214601516724, '广州': 0.5977935791015625, '京城': 0.595507025718689, '沈阳': 0.5865166187286377, '深圳': 0.5807728171348572}\n",
      "\n",
      "\n"
     ]
    }
   ],
   "source": [
    "# 单个词\n",
    "print(word2vec.most_similar('北京')) \n",
    "print('\\n')"
   ]
  },
  {
   "cell_type": "markdown",
   "metadata": {
    "slideshow": {
     "slide_type": "slide"
    }
   },
   "source": [
    "#### 2.4.2 获取基于上下文的词向量：语言模型的隐藏层表征\n",
    "\n",
    "同样以1.3中调用的[gpt2-chinese-cluecorpussmall](https://huggingface.co/uer/gpt2-chinese-cluecorpussmall)为例"
   ]
  },
  {
   "cell_type": "code",
   "execution_count": 24,
   "metadata": {
    "slideshow": {
     "slide_type": "fragment"
    }
   },
   "outputs": [],
   "source": [
    "from transformers import BertTokenizer, GPT2LMHeadModel, TextGenerationPipeline\n",
    "ckpt_path = \"uer/gpt2-chinese-cluecorpussmall\" # checkpoint模型路径\n",
    "tokenizer = BertTokenizer.from_pretrained(ckpt_path) # 分词器\n",
    "model = GPT2LMHeadModel.from_pretrained(ckpt_path) # 语言模型"
   ]
  },
  {
   "cell_type": "code",
   "execution_count": 25,
   "metadata": {
    "slideshow": {
     "slide_type": "fragment"
    }
   },
   "outputs": [
    {
     "name": "stdout",
     "output_type": "stream",
     "text": [
      "\n",
      "==========最后一层输出的内隐表征维度: ==========\n",
      "torch.Size([1, 25, 768])  1 x 输入字数 x 表征维度\n"
     ]
    }
   ],
   "source": [
    "model.config.output_hidden_states = True\n",
    "inputs = tokenizer('小明喜欢吃西瓜。小明喜欢打篮球。小明经常去花店', return_tensors=\"pt\")\n",
    "outputs = model(**inputs)\n",
    "\n",
    "print('\\n' + '='*10 + '最后一层输出的内隐表征维度: ' + '='*10)\n",
    "print(str(outputs.hidden_states[-1].shape) + '  1 x 输入字数 x 表征维度')"
   ]
  },
  {
   "cell_type": "markdown",
   "metadata": {
    "slideshow": {
     "slide_type": "slide"
    }
   },
   "source": [
    "### 2.5 例子\n",
    "* 用词向量来预测人类语言理解时的神经活动（[Goldstein，2022](https://www.nature.com/articles/s41593-022-01026-4)）\n",
    "* reference: https://github.com/snastase/encling-tutorial"
   ]
  },
  {
   "cell_type": "code",
   "execution_count": 26,
   "metadata": {
    "slideshow": {
     "slide_type": "fragment"
    }
   },
   "outputs": [],
   "source": [
    "# Download data from Zenodo for linux and macos. \n",
    "# For windows, manually download and decompress through https://zenodo.org/records/8216229/files/encling-data.tgz\n",
    "if not os.path.exists('encling-data.tgz'):\n",
    "    !curl -L https://zenodo.org/records/8216229/files/encling-data.tgz -o encling-data.tgz\n",
    "    !tar -xvzf encling-data.tgz"
   ]
  },
  {
   "cell_type": "code",
   "execution_count": 27,
   "metadata": {
    "slideshow": {
     "slide_type": "slide"
    }
   },
   "outputs": [
    {
     "name": "stdout",
     "output_type": "stream",
     "text": [
      "Opening raw data file encling-data/sub-717_task-monkey_desc-clean_ieeg.fif...\n",
      "    Range : 0 ... 921600 =      0.000 ...  1800.000 secs\n",
      "Ready.\n"
     ]
    },
    {
     "data": {
      "image/png": "[encoded data removed]",
      "text/plain": [
       "<Figure size 475.2x187.2 with 4 Axes>"
      ]
     },
     "metadata": {},
     "output_type": "display_data"
    }
   ],
   "source": [
    "!pip install mne nilearn\n",
    "clear_output()\n",
    "\n",
    "import mne\n",
    "from nilearn.plotting import plot_markers\n",
    "\n",
    "# Load data into MNE \"Raw\" object\n",
    "raw = mne.io.read_raw('encling-data/sub-717_task-monkey_desc-clean_ieeg.fif')\n",
    "# Plot the electrode coordinates\n",
    "node_coords = np.vstack([ch['loc'][:3] for ch in raw.info['chs']])\n",
    "node_values = np.ones(len(node_coords))\n",
    "plot_markers(node_values, node_coords,\n",
    "             node_vmin=0, node_vmax=1.5, node_size=50, node_cmap='Blues',\n",
    "             display_mode='lyr', colorbar=False);"
   ]
  },
  {
   "cell_type": "code",
   "execution_count": 30,
   "metadata": {
    "slideshow": {
     "slide_type": "slide"
    }
   },
   "outputs": [
    {
     "data": {
      "text/html": [
       "<div>\n",
       "<style scoped>\n",
       "    .dataframe tbody tr th:only-of-type {\n",
       "        vertical-align: middle;\n",
       "    }\n",
       "\n",
       "    .dataframe tbody tr th {\n",
       "        vertical-align: top;\n",
       "    }\n",
       "\n",
       "    .dataframe thead th {\n",
       "        text-align: right;\n",
       "    }\n",
       "</style>\n",
       "<table border=\"1\" class=\"dataframe\">\n",
       "  <thead>\n",
       "    <tr style=\"text-align: right;\">\n",
       "      <th></th>\n",
       "      <th>word</th>\n",
       "      <th>onset</th>\n",
       "      <th>offset</th>\n",
       "      <th>embedding</th>\n",
       "    </tr>\n",
       "  </thead>\n",
       "  <tbody>\n",
       "    <tr>\n",
       "      <th>0</th>\n",
       "      <td>so</td>\n",
       "      <td>3356.145752</td>\n",
       "      <td>3427.825684</td>\n",
       "      <td>[-0.037075665, -0.019805377, -0.003584773, 0.0...</td>\n",
       "    </tr>\n",
       "    <tr>\n",
       "      <th>1</th>\n",
       "      <td>there's</td>\n",
       "      <td>3438.065674</td>\n",
       "      <td>3519.985596</td>\n",
       "      <td>[0.038773842, -0.030825203, 0.033539373, 0.113...</td>\n",
       "    </tr>\n",
       "    <tr>\n",
       "      <th>2</th>\n",
       "      <td>some</td>\n",
       "      <td>3509.745605</td>\n",
       "      <td>3591.665771</td>\n",
       "      <td>[0.10444655, 0.05336477, -0.00096759317, 0.103...</td>\n",
       "    </tr>\n",
       "    <tr>\n",
       "      <th>3</th>\n",
       "      <td>places</td>\n",
       "      <td>3601.905762</td>\n",
       "      <td>3740.145752</td>\n",
       "      <td>[-0.006933008, 0.0585454, 0.034995183, 0.04423...</td>\n",
       "    </tr>\n",
       "    <tr>\n",
       "      <th>4</th>\n",
       "      <td>where</td>\n",
       "      <td>3770.865723</td>\n",
       "      <td>3822.065674</td>\n",
       "      <td>[0.007766569, -0.025417862, 0.0325527, 0.06569...</td>\n",
       "    </tr>\n",
       "    <tr>\n",
       "      <th>...</th>\n",
       "      <td>...</td>\n",
       "      <td>...</td>\n",
       "      <td>...</td>\n",
       "      <td>...</td>\n",
       "    </tr>\n",
       "    <tr>\n",
       "      <th>5107</th>\n",
       "      <td>it's</td>\n",
       "      <td>917626.062500</td>\n",
       "      <td>917677.250000</td>\n",
       "      <td>[0.04729646, -0.03877614, 0.043297127, 0.10919...</td>\n",
       "    </tr>\n",
       "    <tr>\n",
       "      <th>5108</th>\n",
       "      <td>a</td>\n",
       "      <td>917697.750000</td>\n",
       "      <td>917708.000000</td>\n",
       "      <td>NaN</td>\n",
       "    </tr>\n",
       "    <tr>\n",
       "      <th>5109</th>\n",
       "      <td>uniquely</td>\n",
       "      <td>917748.937500</td>\n",
       "      <td>917938.375000</td>\n",
       "      <td>[-0.043124266, -0.084389724, -0.034202002, 0.0...</td>\n",
       "    </tr>\n",
       "    <tr>\n",
       "      <th>5110</th>\n",
       "      <td>human</td>\n",
       "      <td>917969.125000</td>\n",
       "      <td>918097.125000</td>\n",
       "      <td>[0.022186058, 0.036621526, 0.042821996, 0.1123...</td>\n",
       "    </tr>\n",
       "    <tr>\n",
       "      <th>5111</th>\n",
       "      <td>characteristic</td>\n",
       "      <td>918127.812500</td>\n",
       "      <td>918430.250000</td>\n",
       "      <td>[0.124590084, 0.053110518, -0.032944493, 0.075...</td>\n",
       "    </tr>\n",
       "  </tbody>\n",
       "</table>\n",
       "<p>5112 rows × 4 columns</p>\n",
       "</div>"
      ],
      "text/plain": [
       "                word          onset         offset  \\\n",
       "0                 so    3356.145752    3427.825684   \n",
       "1            there's    3438.065674    3519.985596   \n",
       "2               some    3509.745605    3591.665771   \n",
       "3             places    3601.905762    3740.145752   \n",
       "4              where    3770.865723    3822.065674   \n",
       "...              ...            ...            ...   \n",
       "5107            it's  917626.062500  917677.250000   \n",
       "5108               a  917697.750000  917708.000000   \n",
       "5109        uniquely  917748.937500  917938.375000   \n",
       "5110           human  917969.125000  918097.125000   \n",
       "5111  characteristic  918127.812500  918430.250000   \n",
       "\n",
       "                                              embedding  \n",
       "0     [-0.037075665, -0.019805377, -0.003584773, 0.0...  \n",
       "1     [0.038773842, -0.030825203, 0.033539373, 0.113...  \n",
       "2     [0.10444655, 0.05336477, -0.00096759317, 0.103...  \n",
       "3     [-0.006933008, 0.0585454, 0.034995183, 0.04423...  \n",
       "4     [0.007766569, -0.025417862, 0.0325527, 0.06569...  \n",
       "...                                                 ...  \n",
       "5107  [0.04729646, -0.03877614, 0.043297127, 0.10919...  \n",
       "5108                                                NaN  \n",
       "5109  [-0.043124266, -0.084389724, -0.034202002, 0.0...  \n",
       "5110  [0.022186058, 0.036621526, 0.042821996, 0.1123...  \n",
       "5111  [0.124590084, 0.053110518, -0.032944493, 0.075...  \n",
       "\n",
       "[5112 rows x 4 columns]"
      ]
     },
     "execution_count": 30,
     "metadata": {},
     "output_type": "execute_result"
    }
   ],
   "source": [
    "# Reload transcript with embeddings if already generated\n",
    "import pickle\n",
    "transcript_f = 'encling-data/monkey_w2v.pkl'\n",
    "if os.path.exists(transcript_f):\n",
    "    with open(transcript_f, 'rb') as f:\n",
    "        transcript_w2v = pickle.load(f)\n",
    "        \n",
    "transcript_w2v"
   ]
  },
  {
   "cell_type": "code",
   "execution_count": 31,
   "metadata": {
    "slideshow": {
     "slide_type": "slide"
    }
   },
   "outputs": [
    {
     "name": "stdout",
     "output_type": "stream",
     "text": [
      "First few words: \"so there's some places where animals almost never go places that are designed by humans for humans this act ends\"\n"
     ]
    }
   ],
   "source": [
    "# Add word onsets as annotations to the raw object\n",
    "annotations = mne.Annotations(transcript_w2v.onset.to_numpy() / 512,\n",
    "                              (transcript_w2v.offset - transcript_w2v.onset).to_numpy() / 512,\n",
    "                              description=transcript_w2v.word.to_numpy())\n",
    "raw = raw.set_annotations(annotations)\n",
    "# Extract word onsets from the annotations\n",
    "events, event_id = mne.events_from_annotations(raw, regexp=None, verbose=False)\n",
    "word_ids = {word: id for id, word in event_id.items()}\n",
    "words = [word_ids[word_id] for word_id in events[:, 2]]\n",
    "print(f'First few words: \"{\" \".join(words[:20])}\"')"
   ]
  },
  {
   "cell_type": "code",
   "execution_count": 32,
   "metadata": {
    "slideshow": {
     "slide_type": "slide"
    }
   },
   "outputs": [
    {
     "name": "stdout",
     "output_type": "stream",
     "text": [
      "Loading data for 4490 events and 2049 original time points ...\n",
      "0 bad epochs dropped\n",
      "Not setting metadata\n",
      "4490 matching events found\n",
      "No baseline correction applied\n",
      "0 projection items activated\n"
     ]
    },
    {
     "data": {
      "image/png": "[encoded data removed]",
      "text/plain": [
       "<Figure size 648x288 with 3 Axes>"
      ]
     },
     "metadata": {
      "needs_background": "light"
     },
     "output_type": "display_data"
    },
    {
     "data": {
      "text/plain": [
       "[<Figure size 648x288 with 3 Axes>]"
      ]
     },
     "execution_count": 32,
     "metadata": {},
     "output_type": "execute_result"
    }
   ],
   "source": [
    "# Compile embeddings from transcript\n",
    "words_keep = np.where(transcript_w2v['embedding'].notna())[0]\n",
    "X_w2v = np.vstack(transcript_w2v['embedding'][words_keep])\n",
    "# Only include events where we have word embeddings\n",
    "events_ = events[words_keep]\n",
    "# create epochs without any processing (e.g., baseline correction)\n",
    "epochs = mne.Epochs(raw, events_, event_repeated='drop',tmin=-2.0, tmax=2.0,picks='ecog',\n",
    "                    reject_by_annotation=None, detrend=None, baseline=None, verbose=False)\n",
    "epochs = epochs.load_data()\n",
    "epochs = epochs.resample(100, verbose=False)\n",
    "\n",
    "fig, ax = plt.subplots(2, 1, figsize=(9, 4))\n",
    "epochs.plot_image(picks=[9], colorbar=False, vmin=0, vmax=1e7, cmap='plasma', axes=ax)"
   ]
  },
  {
   "cell_type": "code",
   "execution_count": 33,
   "metadata": {
    "slideshow": {
     "slide_type": "slide"
    }
   },
   "outputs": [
    {
     "name": "stdout",
     "output_type": "stream",
     "text": [
      "ECoG data matrix shape: (4490, 64, 400)\n",
      "ECoG data matrix shape: (4490, 25600)\n"
     ]
    }
   ],
   "source": [
    "# Extract data from epochs object\n",
    "Y_lags = epochs._data\n",
    "print(f\"ECoG data matrix shape: {Y_lags.shape}\")\n",
    "n_words, n_electrodes, n_lags = Y_lags.shape\n",
    "Y_lags = Y_lags.reshape(n_words, n_electrodes * n_lags)\n",
    "print(f\"ECoG data matrix shape: {Y_lags.shape}\")"
   ]
  },
  {
   "cell_type": "code",
   "execution_count": 34,
   "metadata": {
    "slideshow": {
     "slide_type": "slide"
    }
   },
   "outputs": [],
   "source": [
    "!pip install scikit-learn himalaya\n",
    "clear_output()\n",
    "from sklearn.preprocessing import StandardScaler\n",
    "from sklearn.model_selection import KFold\n",
    "from sklearn.pipeline import make_pipeline\n",
    "from himalaya.ridge import RidgeCV\n",
    "from himalaya.scoring import correlation_score\n",
    "\n",
    "# Split-half outer and inner cross-validation\n",
    "outer_cv = KFold(n_splits=2, shuffle=False)\n",
    "inner_cv = KFold(n_splits=5, shuffle=False)\n",
    "# Ridge regression with alpha grid and nested CV\n",
    "alphas = np.logspace(1, 10, 10)\n",
    "# Chain transfroms and estimator into pipeline\n",
    "pipeline = make_pipeline(StandardScaler(with_mean=True, with_std=True), RidgeCV(alphas=alphas, cv=inner_cv))"
   ]
  },
  {
   "cell_type": "code",
   "execution_count": 35,
   "metadata": {
    "slideshow": {
     "slide_type": "fragment"
    }
   },
   "outputs": [],
   "source": [
    "# Loop through outer folds and estimate model\n",
    "Y_predicted = []\n",
    "for train, test in outer_cv.split(Y_lags):\n",
    "    # Fit pipeline with transforms and ridge estimator\n",
    "    pipeline.fit(X_w2v[train],Y_lags[train])\n",
    "    # Compute predicted response\n",
    "    predicted = pipeline.predict(X_w2v[test])\n",
    "    Y_predicted.append(predicted)\n",
    "# Restack first and second half predictions\n",
    "Y_predicted = np.vstack(Y_predicted)"
   ]
  },
  {
   "cell_type": "code",
   "execution_count": 36,
   "metadata": {
    "slideshow": {
     "slide_type": "slide"
    }
   },
   "outputs": [
    {
     "data": {
      "image/png": "[encoded data removed]",
      "text/plain": [
       "<Figure size 432x288 with 1 Axes>"
      ]
     },
     "metadata": {
      "needs_background": "light"
     },
     "output_type": "display_data"
    }
   ],
   "source": [
    "# Evaluate predictions: correlation between predicted and actual time series\n",
    "scores_lags = correlation_score(Y_lags, Y_predicted)\n",
    "scores = scores_lags.reshape(n_electrodes, n_lags)\n",
    "# Plot the correlation for one electrode on all lags\n",
    "example_electrode = 9\n",
    "lags = epochs.times\n",
    "fig, ax = plt.subplots()\n",
    "ax.axhline(0, color='.8')\n",
    "ax.axvline(0, color='.8')\n",
    "ax.plot(lags, scores[example_electrode])\n",
    "ax.set(xlabel='lag (s)', ylabel='encoding performance (r)');"
   ]
  },
  {
   "cell_type": "code",
   "execution_count": 37,
   "metadata": {
    "slideshow": {
     "slide_type": "slide"
    }
   },
   "outputs": [
    {
     "data": {
      "image/png": "[encoded data removed]",
      "text/plain": [
       "<Figure size 475.2x187.2 with 5 Axes>"
      ]
     },
     "metadata": {},
     "output_type": "display_data"
    }
   ],
   "source": [
    "# Plot maximum correlation across lags for all electrodes\n",
    "node_values = scores.max(-1)\n",
    "vmax = np.quantile(scores.max(-1), .99)\n",
    "\n",
    "plot_markers(node_values, node_coords,\n",
    "             node_size=50, node_cmap='plasma', display_mode='lyr',\n",
    "             node_vmin=0, node_vmax=vmax, alpha=1)\n",
    "plt.show()"
   ]
  },
  {
   "cell_type": "markdown",
   "metadata": {
    "slideshow": {
     "slide_type": "slide"
    }
   },
   "source": [
    "## 3. 句法特征提取"
   ]
  },
  {
   "cell_type": "markdown",
   "metadata": {
    "slideshow": {
     "slide_type": "fragment"
    }
   },
   "source": [
    "### 3.1 句法特征抽取"
   ]
  },
  {
   "cell_type": "code",
   "execution_count": 38,
   "metadata": {
    "slideshow": {
     "slide_type": "fragment"
    }
   },
   "outputs": [
    {
     "name": "stderr",
     "output_type": "stream",
     "text": [
      "                                   \r"
     ]
    },
    {
     "data": {
      "text/html": [
       "<div style=\"display: table; padding-bottom: 1rem;\"><pre style=\"display: table-cell; font-family: SFMono-Regular,Menlo,Monaco,Consolas,Liberation Mono,Courier New,monospace; white-space: nowrap; line-height: 128%; padding: 0;\">Dep&nbsp;Tre&nbsp;<br>───────&nbsp;<br>┌┬──┬──&nbsp;<br>││&nbsp;&nbsp;└─►&nbsp;<br>│└─►┌──&nbsp;<br>│&nbsp;&nbsp;&nbsp;└─►&nbsp;<br>└─────►&nbsp;</pre><pre style=\"display: table-cell; font-family: SFMono-Regular,Menlo,Monaco,Consolas,Liberation Mono,Courier New,monospace; white-space: nowrap; line-height: 128%; padding: 0;\">Tok&nbsp;<br>───&nbsp;<br>欢迎&nbsp;&nbsp;<br>大家&nbsp;&nbsp;<br>参加&nbsp;&nbsp;<br>工作坊&nbsp;<br>！&nbsp;&nbsp;&nbsp;</pre><pre style=\"display: table-cell; font-family: SFMono-Regular,Menlo,Monaco,Consolas,Liberation Mono,Courier New,monospace; white-space: nowrap; line-height: 128%; padding: 0;\">Relat&nbsp;<br>─────&nbsp;<br>root&nbsp;&nbsp;<br>dobj&nbsp;&nbsp;<br>dep&nbsp;&nbsp;&nbsp;<br>dobj&nbsp;&nbsp;<br>punct&nbsp;</pre><pre style=\"display: table-cell; font-family: SFMono-Regular,Menlo,Monaco,Consolas,Liberation Mono,Courier New,monospace; white-space: nowrap; line-height: 128%; padding: 0;\">Tok&nbsp;<br>───&nbsp;<br>欢迎&nbsp;&nbsp;<br>大家&nbsp;&nbsp;<br>参加&nbsp;&nbsp;<br>工作坊&nbsp;<br>！&nbsp;&nbsp;&nbsp;</pre><pre style=\"display: table-cell; font-family: SFMono-Regular,Menlo,Monaco,Consolas,Liberation Mono,Courier New,monospace; white-space: nowrap; line-height: 128%; padding: 0;\">P&nbsp;&nbsp;&nbsp;&nbsp;3&nbsp;&nbsp;&nbsp;&nbsp;&nbsp;&nbsp;&nbsp;4&nbsp;&nbsp;&nbsp;&nbsp;&nbsp;&nbsp;&nbsp;5&nbsp;&nbsp;&nbsp;&nbsp;&nbsp;&nbsp;&nbsp;6&nbsp;&nbsp;&nbsp;&nbsp;&nbsp;&nbsp;&nbsp;7&nbsp;<br>───────────────────────────────────────<br>_──────────────────────────┐&nbsp;&nbsp;&nbsp;&nbsp;&nbsp;&nbsp;&nbsp;&nbsp;&nbsp;&nbsp;&nbsp;<br>_───────────────────►NP────┤&nbsp;&nbsp;&nbsp;&nbsp;&nbsp;&nbsp;&nbsp;&nbsp;&nbsp;&nbsp;&nbsp;<br>_──────────┐&nbsp;&nbsp;&nbsp;&nbsp;&nbsp;&nbsp;&nbsp;&nbsp;&nbsp;&nbsp;&nbsp;&nbsp;&nbsp;&nbsp;&nbsp;├►VP&nbsp;───┐&nbsp;&nbsp;&nbsp;<br>_───►NP&nbsp;───┴►VP&nbsp;────►IP&nbsp;───┘&nbsp;&nbsp;&nbsp;&nbsp;&nbsp;&nbsp;&nbsp;├►IP<br>_──────────────────────────────────┘&nbsp;&nbsp;&nbsp;</pre></div>"
      ],
      "text/plain": [
       "<IPython.core.display.HTML object>"
      ]
     },
     "metadata": {},
     "output_type": "display_data"
    }
   ],
   "source": [
    "import hanlp\n",
    "## workshop中的例子，研究中一般会把标点去掉，但是这里保留了标点，模型也是能够解析标点的\n",
    "Hanlp = hanlp.load(hanlp.pretrained.mtl.CLOSE_TOK_POS_NER_SRL_DEP_SDP_CON_ELECTRA_SMALL_ZH) # 选择使用的模型\n",
    "doc = Hanlp('欢迎大家参加工作坊！', tasks=['dep', 'con']) # 在tasks中选择需要的任务，如果不设置就进行所有任务（运行起来会慢一点）\n",
    "doc.pretty_print()"
   ]
  },
  {
   "cell_type": "markdown",
   "metadata": {
    "slideshow": {
     "slide_type": "slide"
    }
   },
   "source": [
    "* 成分句法\n",
    "\n",
    "    成分句法输出得到的是一个树结构的数据，可以看作一个嵌套的列表。我们可以：\n",
    "    * 访问句法树的一些属性\n",
    "    * 转换为括号表示法，计算括号数量\n",
    "    * 访问句法树的子树"
   ]
  },
  {
   "cell_type": "code",
   "execution_count": 39,
   "metadata": {
    "slideshow": {
     "slide_type": "fragment"
    }
   },
   "outputs": [
    {
     "name": "stderr",
     "output_type": "stream",
     "text": [
      "                                   \r"
     ]
    }
   ],
   "source": [
    "Hanlp = hanlp.load(hanlp.pretrained.mtl.CLOSE_TOK_POS_NER_SRL_DEP_SDP_CON_ELECTRA_SMALL_ZH)\n",
    "doc = Hanlp('欢迎大家参加工作坊！')\n",
    "tree = doc['con']"
   ]
  },
  {
   "cell_type": "code",
   "execution_count": 40,
   "metadata": {
    "slideshow": {
     "slide_type": "fragment"
    }
   },
   "outputs": [
    {
     "name": "stdout",
     "output_type": "stream",
     "text": [
      "(0, 0, 0, 0)\n",
      "(0, 0, 1, 0, 0)\n",
      "(0, 0, 2, 0, 0, 0)\n",
      "(0, 0, 2, 0, 1, 0, 0)\n",
      "(0, 1, 0)\n"
     ]
    }
   ],
   "source": [
    "# 叶结点的位置\n",
    "for i in range(len(tree.leaves())):\n",
    "    print(tree.leaf_treeposition(i))"
   ]
  },
  {
   "cell_type": "code",
   "execution_count": 41,
   "metadata": {
    "slideshow": {
     "slide_type": "fragment"
    }
   },
   "outputs": [
    {
     "data": {
      "text/plain": [
       "'大家'"
      ]
     },
     "execution_count": 41,
     "metadata": {},
     "output_type": "execute_result"
    }
   ],
   "source": [
    "tree[0, 0, 1, 0, 0]"
   ]
  },
  {
   "cell_type": "code",
   "execution_count": 42,
   "metadata": {
    "slideshow": {
     "slide_type": "slide"
    }
   },
   "outputs": [
    {
     "data": {
      "text/plain": [
       "'(TOP(IP(VP(VV欢迎)(NP(PN大家))(IP(VP(VV参加)(NP(NN工作坊)))))(PU！)))'"
      ]
     },
     "execution_count": 42,
     "metadata": {},
     "output_type": "execute_result"
    }
   ],
   "source": [
    "# 转为括号表示法\n",
    "bracket_form = tree.pformat().replace ('\\n', '').replace(' ', '') # 去掉换行和空格\n",
    "bracket_form"
   ]
  },
  {
   "cell_type": "code",
   "execution_count": 43,
   "metadata": {
    "slideshow": {
     "slide_type": "fragment"
    }
   },
   "outputs": [
    {
     "name": "stdout",
     "output_type": "stream",
     "text": [
      "(TOP(IP(VP(VV欢迎)(VP|<NP-IP>(NP(PN大家))(IP(VP(VV参加)(NP(NN工作坊))))))(PU！)))\n"
     ]
    }
   ],
   "source": [
    "# 转换为Chomsky Normal Form，可以用tree.un_chomsky_normal_form()转换回来\n",
    "tree.chomsky_normal_form() \n",
    "bracket_form = tree.pformat().replace ('\\n', '').replace(' ', '')\n",
    "print(bracket_form)"
   ]
  },
  {
   "cell_type": "code",
   "execution_count": 44,
   "metadata": {
    "slideshow": {
     "slide_type": "fragment"
    }
   },
   "outputs": [
    {
     "data": {
      "text/plain": [
       "'(TOP|IP(VP(VV欢迎)(VP|<NP-IP>(NP(PN大家))(IP|VP(VV参加)(NP(NN工作坊)))))(PU！))'"
      ]
     },
     "execution_count": 44,
     "metadata": {},
     "output_type": "execute_result"
    }
   ],
   "source": [
    "# 输出中有些节点只派生出一支，是冗余的（例如最外层的TOP根结点只派生出IP，以及句子中的IP只派生出VP），可以选择压缩节点\n",
    "tree.collapse_unary(collapseRoot=True, joinChar='|') # 压缩冗余节点，压缩的节点用｜来表示\n",
    "bracket_form = tree.pformat().replace ('\\n', '').replace(' ', '')\n",
    "bracket_form "
   ]
  },
  {
   "cell_type": "code",
   "execution_count": 45,
   "metadata": {
    "slideshow": {
     "slide_type": "slide"
    }
   },
   "outputs": [
    {
     "name": "stdout",
     "output_type": "stream",
     "text": [
      "((()((())(()(()))))())\n",
      "左括号数: [3, 3, 2, 2, 1]\n",
      "右括号数: [1, 2, 1, 5, 2]\n"
     ]
    }
   ],
   "source": [
    "import re\n",
    "import pandas as pd\n",
    "# 计算括号表示法中每个词的括号数\n",
    "bracket_clean= re.sub(\"([^()])\", \"\", bracket_form) # 只保留括号\n",
    "print(bracket_clean)\n",
    "\n",
    "# 计算左括号数\n",
    "left_bracket = [len(re.findall(\"\\(\", i)) for i in bracket_clean] \n",
    "left_bracket_count = []\n",
    "for i in left_bracket:\n",
    "    if len(left_bracket_count) == 0 or (i == 1 and j != 1):\n",
    "        left_bracket_count.append(1)\n",
    "    elif i == 1 and j == 1:\n",
    "        left_bracket_count[-1] += 1\n",
    "    j = i\n",
    "print(\"左括号数:\", left_bracket_count)\n",
    "\n",
    "# 计算右括号数\n",
    "right_bracket = [len(re.findall(\"\\)\", i)) for i in bracket_clean] \n",
    "right_bracket_count = []; j = 0\n",
    "for i in right_bracket:\n",
    "    if i == 1 and j != 1:\n",
    "        right_bracket_count.append(1)\n",
    "    elif i == 1 and j == 1:\n",
    "        right_bracket_count[-1] += 1\n",
    "    j = i\n",
    "print(\"右括号数:\", right_bracket_count)"
   ]
  },
  {
   "cell_type": "code",
   "execution_count": 46,
   "metadata": {
    "slideshow": {
     "slide_type": "skip"
    }
   },
   "outputs": [
    {
     "data": {
      "text/html": [
       "<div>\n",
       "<style scoped>\n",
       "    .dataframe tbody tr th:only-of-type {\n",
       "        vertical-align: middle;\n",
       "    }\n",
       "\n",
       "    .dataframe tbody tr th {\n",
       "        vertical-align: top;\n",
       "    }\n",
       "\n",
       "    .dataframe thead th {\n",
       "        text-align: right;\n",
       "    }\n",
       "</style>\n",
       "<table border=\"1\" class=\"dataframe\">\n",
       "  <thead>\n",
       "    <tr style=\"text-align: right;\">\n",
       "      <th></th>\n",
       "      <th>word</th>\n",
       "      <th>left_bracket</th>\n",
       "      <th>right_bracket</th>\n",
       "    </tr>\n",
       "  </thead>\n",
       "  <tbody>\n",
       "    <tr>\n",
       "      <th>0</th>\n",
       "      <td>欢迎</td>\n",
       "      <td>3</td>\n",
       "      <td>1</td>\n",
       "    </tr>\n",
       "    <tr>\n",
       "      <th>1</th>\n",
       "      <td>大家</td>\n",
       "      <td>3</td>\n",
       "      <td>2</td>\n",
       "    </tr>\n",
       "    <tr>\n",
       "      <th>2</th>\n",
       "      <td>参加</td>\n",
       "      <td>2</td>\n",
       "      <td>1</td>\n",
       "    </tr>\n",
       "    <tr>\n",
       "      <th>3</th>\n",
       "      <td>工作坊</td>\n",
       "      <td>2</td>\n",
       "      <td>5</td>\n",
       "    </tr>\n",
       "    <tr>\n",
       "      <th>4</th>\n",
       "      <td>！</td>\n",
       "      <td>1</td>\n",
       "      <td>2</td>\n",
       "    </tr>\n",
       "  </tbody>\n",
       "</table>\n",
       "</div>"
      ],
      "text/plain": [
       "  word left_bracket right_bracket\n",
       "0   欢迎            3             1\n",
       "1   大家            3             2\n",
       "2   参加            2             1\n",
       "3  工作坊            2             5\n",
       "4    ！            1             2"
      ]
     },
     "execution_count": 46,
     "metadata": {},
     "output_type": "execute_result"
    }
   ],
   "source": [
    "# 可以保存为 dataframe 进行进一步的句法特征分析\n",
    "df_bracket = pd.DataFrame([tree.leaves(), left_bracket_count, right_bracket_count]).T\n",
    "df_bracket.columns = ['word', 'left_bracket', 'right_bracket']\n",
    "# df_bracket.to_csv('bracket.csv', index=False) # 保存为csv文件\n",
    "df_bracket"
   ]
  },
  {
   "cell_type": "code",
   "execution_count": 47,
   "metadata": {
    "slideshow": {
     "slide_type": "slide"
    }
   },
   "outputs": [
    {
     "name": "stdout",
     "output_type": "stream",
     "text": [
      "Terminal nodes: ['欢迎', '大家', '参加', '工作坊', '！']\n",
      "Tree depth: 7\n",
      "Tree productions: [TOP|IP -> VP PU, VP -> VV VP|<NP-IP>, VV -> '欢迎', VP|<NP-IP> -> NP IP|VP, NP -> PN, PN -> '大家', IP|VP -> VV NP, VV -> '参加', NP -> NN, NN -> '工作坊', PU -> '！']\n",
      "Part of Speech: [('欢迎', 'VV'), ('大家', 'PN'), ('参加', 'VV'), ('工作坊', 'NN'), ('！', 'PU')]\n"
     ]
    }
   ],
   "source": [
    "# 句法树的属性\n",
    "print(\"Terminal nodes:\", tree.leaves())\n",
    "print(\"Tree depth:\", tree.height())\n",
    "print(\"Tree productions:\", tree.productions())\n",
    "print(\"Part of Speech:\", tree.pos())"
   ]
  },
  {
   "cell_type": "code",
   "execution_count": 48,
   "metadata": {
    "slideshow": {
     "slide_type": "slide"
    }
   },
   "outputs": [
    {
     "name": "stdout",
     "output_type": "stream",
     "text": [
      "(TOP|IP\n",
      "  (VP\n",
      "    (VV 欢迎)\n",
      "    (VP|<NP-IP> (NP (PN 大家)) (IP|VP (VV 参加) (NP (NN 工作坊)))))\n",
      "  (PU ！))\n",
      "(VP (VV 欢迎) (VP|<NP-IP> (NP (PN 大家)) (IP|VP (VV 参加) (NP (NN 工作坊)))))\n",
      "(VV 欢迎)\n",
      "(VP|<NP-IP> (NP (PN 大家)) (IP|VP (VV 参加) (NP (NN 工作坊))))\n",
      "(NP (PN 大家))\n",
      "(PN 大家)\n",
      "(IP|VP (VV 参加) (NP (NN 工作坊)))\n",
      "(VV 参加)\n",
      "(NP (NN 工作坊))\n",
      "(NN 工作坊)\n",
      "(PU ！)\n"
     ]
    }
   ],
   "source": [
    "# 句法树的嵌套结构\n",
    "for i in tree.subtrees():  # 根据Tree productions，遍历所有的子树，每一棵子树都是一个Tree对象，可以进行之前相同的操作\n",
    "    print(i)"
   ]
  },
  {
   "cell_type": "code",
   "execution_count": 49,
   "metadata": {
    "slideshow": {
     "slide_type": "slide"
    }
   },
   "outputs": [
    {
     "data": {
      "text/plain": [
       "[(),\n",
       " (0,),\n",
       " (0, 0),\n",
       " (0, 0, 0),\n",
       " (0, 1),\n",
       " (0, 1, 0),\n",
       " (0, 1, 0, 0),\n",
       " (0, 1, 0, 0, 0),\n",
       " (0, 1, 1),\n",
       " (0, 1, 1, 0),\n",
       " (0, 1, 1, 0, 0),\n",
       " (0, 1, 1, 1),\n",
       " (0, 1, 1, 1, 0),\n",
       " (0, 1, 1, 1, 0, 0),\n",
       " (1,),\n",
       " (1, 0)]"
      ]
     },
     "execution_count": 49,
     "metadata": {},
     "output_type": "execute_result"
    }
   ],
   "source": [
    "# 通过索引访问句法树的子树\n",
    "treepositions = tree.treepositions() # 所有节点的索引\n",
    "treepositions"
   ]
  },
  {
   "cell_type": "code",
   "execution_count": 50,
   "metadata": {
    "slideshow": {
     "slide_type": "slide"
    }
   },
   "outputs": [
    {
     "name": "stdout",
     "output_type": "stream",
     "text": [
      "(TOP|IP\n",
      "  (VP\n",
      "    (VV 欢迎)\n",
      "    (VP|<NP-IP> (NP (PN 大家)) (IP|VP (VV 参加) (NP (NN 工作坊)))))\n",
      "  (PU ！))\n",
      "(VP (VV 欢迎) (VP|<NP-IP> (NP (PN 大家)) (IP|VP (VV 参加) (NP (NN 工作坊)))))\n",
      "(VV 欢迎)\n",
      "欢迎\n",
      "(VP|<NP-IP> (NP (PN 大家)) (IP|VP (VV 参加) (NP (NN 工作坊))))\n",
      "(NP (PN 大家))\n",
      "(PN 大家)\n",
      "大家\n",
      "(IP|VP (VV 参加) (NP (NN 工作坊)))\n",
      "(VV 参加)\n",
      "参加\n",
      "(NP (NN 工作坊))\n",
      "(NN 工作坊)\n",
      "工作坊\n",
      "(PU ！)\n",
      "！\n"
     ]
    }
   ],
   "source": [
    "for i in treepositions: # 遍历所有节点\n",
    "    print(tree[i])"
   ]
  },
  {
   "cell_type": "markdown",
   "metadata": {
    "slideshow": {
     "slide_type": "slide"
    }
   },
   "source": [
    "* 3.1.2 依存句法\n",
    "    依存句法的数据结构更加简单，为一个列表`[(head, relation), ... ]`。列表中第$i$个值中包括了它的核心词的位置以及它与核心词之间的依存关系"
   ]
  },
  {
   "cell_type": "code",
   "execution_count": 51,
   "metadata": {
    "slideshow": {
     "slide_type": "skip"
    }
   },
   "outputs": [
    {
     "name": "stderr",
     "output_type": "stream",
     "text": [
      "                                   \r"
     ]
    },
    {
     "data": {
      "text/plain": [
       "[(0, 'root'), (1, 'dobj'), (1, 'dep'), (3, 'dobj'), (1, 'punct')]"
      ]
     },
     "execution_count": 51,
     "metadata": {},
     "output_type": "execute_result"
    }
   ],
   "source": [
    "Hanlp = hanlp.load(hanlp.pretrained.mtl.CLOSE_TOK_POS_NER_SRL_DEP_SDP_CON_ELECTRA_SMALL_ZH)\n",
    "doc = Hanlp('欢迎大家参加工作坊！')\n",
    "doc['dep']"
   ]
  },
  {
   "cell_type": "code",
   "execution_count": 52,
   "metadata": {
    "slideshow": {
     "slide_type": "fragment"
    }
   },
   "outputs": [
    {
     "data": {
      "text/html": [
       "<div>\n",
       "<style scoped>\n",
       "    .dataframe tbody tr th:only-of-type {\n",
       "        vertical-align: middle;\n",
       "    }\n",
       "\n",
       "    .dataframe tbody tr th {\n",
       "        vertical-align: top;\n",
       "    }\n",
       "\n",
       "    .dataframe thead th {\n",
       "        text-align: right;\n",
       "    }\n",
       "</style>\n",
       "<table border=\"1\" class=\"dataframe\">\n",
       "  <thead>\n",
       "    <tr style=\"text-align: right;\">\n",
       "      <th></th>\n",
       "      <th>word</th>\n",
       "      <th>head</th>\n",
       "      <th>rel</th>\n",
       "    </tr>\n",
       "  </thead>\n",
       "  <tbody>\n",
       "    <tr>\n",
       "      <th>0</th>\n",
       "      <td>欢迎</td>\n",
       "      <td>0</td>\n",
       "      <td>root</td>\n",
       "    </tr>\n",
       "    <tr>\n",
       "      <th>1</th>\n",
       "      <td>大家</td>\n",
       "      <td>1</td>\n",
       "      <td>dobj</td>\n",
       "    </tr>\n",
       "    <tr>\n",
       "      <th>2</th>\n",
       "      <td>参加</td>\n",
       "      <td>1</td>\n",
       "      <td>dep</td>\n",
       "    </tr>\n",
       "    <tr>\n",
       "      <th>3</th>\n",
       "      <td>工作坊</td>\n",
       "      <td>3</td>\n",
       "      <td>dobj</td>\n",
       "    </tr>\n",
       "    <tr>\n",
       "      <th>4</th>\n",
       "      <td>！</td>\n",
       "      <td>1</td>\n",
       "      <td>punct</td>\n",
       "    </tr>\n",
       "  </tbody>\n",
       "</table>\n",
       "</div>"
      ],
      "text/plain": [
       "  word  head    rel\n",
       "0   欢迎     0   root\n",
       "1   大家     1   dobj\n",
       "2   参加     1    dep\n",
       "3  工作坊     3   dobj\n",
       "4    ！     1  punct"
      ]
     },
     "execution_count": 52,
     "metadata": {},
     "output_type": "execute_result"
    }
   ],
   "source": [
    "# 可以保存为 dataframe 进行进一步的句法特征分析\n",
    "df_dep = pd.DataFrame(doc['dep'], columns=['head', 'rel'])\n",
    "df_dep['word'] = doc['tok/fine']\n",
    "df_dep = df_dep[['word', 'head', 'rel']]\n",
    "df_dep"
   ]
  },
  {
   "cell_type": "markdown",
   "metadata": {
    "slideshow": {
     "slide_type": "slide"
    }
   },
   "source": [
    "### 3.2 批量操作\n",
    "\n",
    "只需要将要处理的句子放在list中，一起进行特征抽取即可。这对所有特征都适用，不仅是句法特征。"
   ]
  },
  {
   "cell_type": "code",
   "execution_count": 53,
   "metadata": {
    "slideshow": {
     "slide_type": "fragment"
    }
   },
   "outputs": [
    {
     "data": {
      "text/html": [
       "<div style=\"display: table; padding-bottom: 1rem;\"><pre style=\"display: table-cell; font-family: SFMono-Regular,Menlo,Monaco,Consolas,Liberation Mono,Courier New,monospace; white-space: nowrap; line-height: 128%; padding: 0;\">Dep&nbsp;Tree&nbsp;&nbsp;<br>─────────&nbsp;<br>&nbsp;&nbsp;&nbsp;&nbsp;&nbsp;&nbsp;┌─►&nbsp;<br>&nbsp;&nbsp;&nbsp;┌─►└──&nbsp;<br>┌─►└─────&nbsp;<br>│&nbsp;&nbsp;┌─►┌──&nbsp;<br>│&nbsp;&nbsp;│&nbsp;&nbsp;└─►&nbsp;<br>└──┴──┬──&nbsp;<br>&nbsp;&nbsp;&nbsp;&nbsp;&nbsp;&nbsp;└─►&nbsp;</pre><pre style=\"display: table-cell; font-family: SFMono-Regular,Menlo,Monaco,Consolas,Liberation Mono,Courier New,monospace; white-space: nowrap; line-height: 128%; padding: 0;\">Toke&nbsp;<br>────&nbsp;<br>2024&nbsp;<br>年&nbsp;&nbsp;&nbsp;&nbsp;<br>工作坊&nbsp;&nbsp;<br>在&nbsp;&nbsp;&nbsp;&nbsp;<br>广州&nbsp;&nbsp;&nbsp;<br>召开&nbsp;&nbsp;&nbsp;<br>。&nbsp;&nbsp;&nbsp;&nbsp;</pre><pre style=\"display: table-cell; font-family: SFMono-Regular,Menlo,Monaco,Consolas,Liberation Mono,Courier New,monospace; white-space: nowrap; line-height: 128%; padding: 0;\">Relati&nbsp;<br>──────&nbsp;<br>nummod&nbsp;<br>clf&nbsp;&nbsp;&nbsp;&nbsp;<br>nsubj&nbsp;&nbsp;<br>prep&nbsp;&nbsp;&nbsp;<br>pobj&nbsp;&nbsp;&nbsp;<br>root&nbsp;&nbsp;&nbsp;<br>punct&nbsp;&nbsp;</pre><pre style=\"display: table-cell; font-family: SFMono-Regular,Menlo,Monaco,Consolas,Liberation Mono,Courier New,monospace; white-space: nowrap; line-height: 128%; padding: 0;\">Po&nbsp;<br>──&nbsp;<br>CD&nbsp;<br>M&nbsp;&nbsp;<br>NN&nbsp;<br>P&nbsp;&nbsp;<br>NR&nbsp;<br>VV&nbsp;<br>PU&nbsp;</pre><pre style=\"display: table-cell; font-family: SFMono-Regular,Menlo,Monaco,Consolas,Liberation Mono,Courier New,monospace; white-space: nowrap; line-height: 128%; padding: 0;\">Toke&nbsp;<br>────&nbsp;<br>2024&nbsp;<br>年&nbsp;&nbsp;&nbsp;&nbsp;<br>工作坊&nbsp;&nbsp;<br>在&nbsp;&nbsp;&nbsp;&nbsp;<br>广州&nbsp;&nbsp;&nbsp;<br>召开&nbsp;&nbsp;&nbsp;<br>。&nbsp;&nbsp;&nbsp;&nbsp;</pre><pre style=\"display: table-cell; font-family: SFMono-Regular,Menlo,Monaco,Consolas,Liberation Mono,Courier New,monospace; white-space: nowrap; line-height: 128%; padding: 0;\">NER&nbsp;Type&nbsp;&nbsp;&nbsp;&nbsp;&nbsp;<br>────────────&nbsp;<br>───►DATE&nbsp;&nbsp;&nbsp;&nbsp;&nbsp;<br>&nbsp;&nbsp;&nbsp;&nbsp;&nbsp;&nbsp;&nbsp;&nbsp;&nbsp;&nbsp;&nbsp;&nbsp;&nbsp;<br>&nbsp;&nbsp;&nbsp;&nbsp;&nbsp;&nbsp;&nbsp;&nbsp;&nbsp;&nbsp;&nbsp;&nbsp;&nbsp;<br>&nbsp;&nbsp;&nbsp;&nbsp;&nbsp;&nbsp;&nbsp;&nbsp;&nbsp;&nbsp;&nbsp;&nbsp;&nbsp;<br>───►LOCATION&nbsp;<br>&nbsp;&nbsp;&nbsp;&nbsp;&nbsp;&nbsp;&nbsp;&nbsp;&nbsp;&nbsp;&nbsp;&nbsp;&nbsp;<br>&nbsp;&nbsp;&nbsp;&nbsp;&nbsp;&nbsp;&nbsp;&nbsp;&nbsp;&nbsp;&nbsp;&nbsp;&nbsp;</pre><pre style=\"display: table-cell; font-family: SFMono-Regular,Menlo,Monaco,Consolas,Liberation Mono,Courier New,monospace; white-space: nowrap; line-height: 128%; padding: 0;\">Toke&nbsp;<br>────&nbsp;<br>2024&nbsp;<br>年&nbsp;&nbsp;&nbsp;&nbsp;<br>工作坊&nbsp;&nbsp;<br>在&nbsp;&nbsp;&nbsp;&nbsp;<br>广州&nbsp;&nbsp;&nbsp;<br>召开&nbsp;&nbsp;&nbsp;<br>。&nbsp;&nbsp;&nbsp;&nbsp;</pre><pre style=\"display: table-cell; font-family: SFMono-Regular,Menlo,Monaco,Consolas,Liberation Mono,Courier New,monospace; white-space: nowrap; line-height: 128%; padding: 0;\">SRL&nbsp;PA1&nbsp;&nbsp;&nbsp;&nbsp;&nbsp;&nbsp;<br>────────────&nbsp;<br>◄─┐&nbsp;&nbsp;&nbsp;&nbsp;&nbsp;&nbsp;&nbsp;&nbsp;&nbsp;&nbsp;<br>&nbsp;&nbsp;├►ARG1&nbsp;&nbsp;&nbsp;&nbsp;&nbsp;<br>◄─┘&nbsp;&nbsp;&nbsp;&nbsp;&nbsp;&nbsp;&nbsp;&nbsp;&nbsp;&nbsp;<br>◄─┐&nbsp;&nbsp;&nbsp;&nbsp;&nbsp;&nbsp;&nbsp;&nbsp;&nbsp;&nbsp;<br>◄─┴►ARGM-LOC&nbsp;<br>╟──►PRED&nbsp;&nbsp;&nbsp;&nbsp;&nbsp;<br>&nbsp;&nbsp;&nbsp;&nbsp;&nbsp;&nbsp;&nbsp;&nbsp;&nbsp;&nbsp;&nbsp;&nbsp;&nbsp;</pre><pre style=\"display: table-cell; font-family: SFMono-Regular,Menlo,Monaco,Consolas,Liberation Mono,Courier New,monospace; white-space: nowrap; line-height: 128%; padding: 0;\">Toke&nbsp;<br>────&nbsp;<br>2024&nbsp;<br>年&nbsp;&nbsp;&nbsp;&nbsp;<br>工作坊&nbsp;&nbsp;<br>在&nbsp;&nbsp;&nbsp;&nbsp;<br>广州&nbsp;&nbsp;&nbsp;<br>召开&nbsp;&nbsp;&nbsp;<br>。&nbsp;&nbsp;&nbsp;&nbsp;</pre><pre style=\"display: table-cell; font-family: SFMono-Regular,Menlo,Monaco,Consolas,Liberation Mono,Courier New,monospace; white-space: nowrap; line-height: 128%; padding: 0;\">Po&nbsp;&nbsp;&nbsp;&nbsp;3&nbsp;&nbsp;&nbsp;&nbsp;&nbsp;&nbsp;&nbsp;4&nbsp;&nbsp;&nbsp;&nbsp;&nbsp;&nbsp;&nbsp;5&nbsp;&nbsp;&nbsp;&nbsp;&nbsp;&nbsp;&nbsp;6&nbsp;<br>────────────────────────────────<br>CD──────────┐&nbsp;&nbsp;&nbsp;&nbsp;&nbsp;&nbsp;&nbsp;&nbsp;&nbsp;&nbsp;&nbsp;&nbsp;&nbsp;&nbsp;&nbsp;&nbsp;&nbsp;&nbsp;&nbsp;<br>M&nbsp;───►CLP&nbsp;──┴►QP&nbsp;───┐&nbsp;&nbsp;&nbsp;&nbsp;&nbsp;&nbsp;&nbsp;&nbsp;&nbsp;&nbsp;&nbsp;<br>NN───────────►NP&nbsp;───┴►NP&nbsp;───┐&nbsp;&nbsp;&nbsp;<br>P&nbsp;──────────┐&nbsp;&nbsp;&nbsp;&nbsp;&nbsp;&nbsp;&nbsp;&nbsp;&nbsp;&nbsp;&nbsp;&nbsp;&nbsp;&nbsp;&nbsp;│&nbsp;&nbsp;&nbsp;<br>NR───►NP&nbsp;───┴►PP&nbsp;───┐&nbsp;&nbsp;&nbsp;&nbsp;&nbsp;&nbsp;&nbsp;├►IP<br>VV───────────►VP&nbsp;───┴►VP────┤&nbsp;&nbsp;&nbsp;<br>PU──────────────────────────┘&nbsp;&nbsp;&nbsp;</pre></div><br><div style=\"display: table; padding-bottom: 1rem;\"><pre style=\"display: table-cell; font-family: SFMono-Regular,Menlo,Monaco,Consolas,Liberation Mono,Courier New,monospace; white-space: nowrap; line-height: 128%; padding: 0;\">Dep&nbsp;Tre&nbsp;<br>───────&nbsp;<br>┌┬──┬──&nbsp;<br>││&nbsp;&nbsp;└─►&nbsp;<br>│└─►┌──&nbsp;<br>│&nbsp;&nbsp;&nbsp;└─►&nbsp;<br>└─────►&nbsp;</pre><pre style=\"display: table-cell; font-family: SFMono-Regular,Menlo,Monaco,Consolas,Liberation Mono,Courier New,monospace; white-space: nowrap; line-height: 128%; padding: 0;\">Tok&nbsp;<br>───&nbsp;<br>欢迎&nbsp;&nbsp;<br>大家&nbsp;&nbsp;<br>参加&nbsp;&nbsp;<br>工作坊&nbsp;<br>！&nbsp;&nbsp;&nbsp;</pre><pre style=\"display: table-cell; font-family: SFMono-Regular,Menlo,Monaco,Consolas,Liberation Mono,Courier New,monospace; white-space: nowrap; line-height: 128%; padding: 0;\">Relat&nbsp;<br>─────&nbsp;<br>root&nbsp;&nbsp;<br>dobj&nbsp;&nbsp;<br>dep&nbsp;&nbsp;&nbsp;<br>dobj&nbsp;&nbsp;<br>punct&nbsp;</pre><pre style=\"display: table-cell; font-family: SFMono-Regular,Menlo,Monaco,Consolas,Liberation Mono,Courier New,monospace; white-space: nowrap; line-height: 128%; padding: 0;\">Po&nbsp;<br>──&nbsp;<br>VV&nbsp;<br>PN&nbsp;<br>VV&nbsp;<br>NN&nbsp;<br>PU&nbsp;</pre><pre style=\"display: table-cell; font-family: SFMono-Regular,Menlo,Monaco,Consolas,Liberation Mono,Courier New,monospace; white-space: nowrap; line-height: 128%; padding: 0;\">Tok&nbsp;<br>───&nbsp;<br>欢迎&nbsp;&nbsp;<br>大家&nbsp;&nbsp;<br>参加&nbsp;&nbsp;<br>工作坊&nbsp;<br>！&nbsp;&nbsp;&nbsp;</pre><pre style=\"display: table-cell; font-family: SFMono-Regular,Menlo,Monaco,Consolas,Liberation Mono,Courier New,monospace; white-space: nowrap; line-height: 128%; padding: 0;\">SRL&nbsp;PA1&nbsp;&nbsp;<br>────────&nbsp;<br>╟──►PRED&nbsp;<br>───►ARG1&nbsp;<br>◄─┐&nbsp;&nbsp;&nbsp;&nbsp;&nbsp;&nbsp;<br>◄─┴►ARG2&nbsp;<br>&nbsp;&nbsp;&nbsp;&nbsp;&nbsp;&nbsp;&nbsp;&nbsp;&nbsp;</pre><pre style=\"display: table-cell; font-family: SFMono-Regular,Menlo,Monaco,Consolas,Liberation Mono,Courier New,monospace; white-space: nowrap; line-height: 128%; padding: 0;\">Tok&nbsp;<br>───&nbsp;<br>欢迎&nbsp;&nbsp;<br>大家&nbsp;&nbsp;<br>参加&nbsp;&nbsp;<br>工作坊&nbsp;<br>！&nbsp;&nbsp;&nbsp;</pre><pre style=\"display: table-cell; font-family: SFMono-Regular,Menlo,Monaco,Consolas,Liberation Mono,Courier New,monospace; white-space: nowrap; line-height: 128%; padding: 0;\">SRL&nbsp;PA2&nbsp;&nbsp;<br>────────&nbsp;<br>&nbsp;&nbsp;&nbsp;&nbsp;&nbsp;&nbsp;&nbsp;&nbsp;&nbsp;<br>&nbsp;&nbsp;&nbsp;&nbsp;&nbsp;&nbsp;&nbsp;&nbsp;&nbsp;<br>╟──►PRED&nbsp;<br>───►ARG1&nbsp;<br>&nbsp;&nbsp;&nbsp;&nbsp;&nbsp;&nbsp;&nbsp;&nbsp;&nbsp;</pre><pre style=\"display: table-cell; font-family: SFMono-Regular,Menlo,Monaco,Consolas,Liberation Mono,Courier New,monospace; white-space: nowrap; line-height: 128%; padding: 0;\">Tok&nbsp;<br>───&nbsp;<br>欢迎&nbsp;&nbsp;<br>大家&nbsp;&nbsp;<br>参加&nbsp;&nbsp;<br>工作坊&nbsp;<br>！&nbsp;&nbsp;&nbsp;</pre><pre style=\"display: table-cell; font-family: SFMono-Regular,Menlo,Monaco,Consolas,Liberation Mono,Courier New,monospace; white-space: nowrap; line-height: 128%; padding: 0;\">Po&nbsp;&nbsp;&nbsp;&nbsp;3&nbsp;&nbsp;&nbsp;&nbsp;&nbsp;&nbsp;&nbsp;4&nbsp;&nbsp;&nbsp;&nbsp;&nbsp;&nbsp;&nbsp;5&nbsp;&nbsp;&nbsp;&nbsp;&nbsp;&nbsp;&nbsp;6&nbsp;&nbsp;&nbsp;&nbsp;&nbsp;&nbsp;&nbsp;7&nbsp;<br>────────────────────────────────────────<br>VV──────────────────────────┐&nbsp;&nbsp;&nbsp;&nbsp;&nbsp;&nbsp;&nbsp;&nbsp;&nbsp;&nbsp;&nbsp;<br>PN───────────────────►NP────┤&nbsp;&nbsp;&nbsp;&nbsp;&nbsp;&nbsp;&nbsp;&nbsp;&nbsp;&nbsp;&nbsp;<br>VV──────────┐&nbsp;&nbsp;&nbsp;&nbsp;&nbsp;&nbsp;&nbsp;&nbsp;&nbsp;&nbsp;&nbsp;&nbsp;&nbsp;&nbsp;&nbsp;├►VP&nbsp;───┐&nbsp;&nbsp;&nbsp;<br>NN───►NP&nbsp;───┴►VP&nbsp;────►IP&nbsp;───┘&nbsp;&nbsp;&nbsp;&nbsp;&nbsp;&nbsp;&nbsp;├►IP<br>PU──────────────────────────────────┘&nbsp;&nbsp;&nbsp;</pre></div>"
      ],
      "text/plain": [
       "<IPython.core.display.HTML object>"
      ]
     },
     "metadata": {},
     "output_type": "display_data"
    }
   ],
   "source": [
    "sentences = ['2024年工作坊在广州召开。', '欢迎大家参加工作坊！']\n",
    "docs = Hanlp(sentences)\n",
    "docs.pretty_print()"
   ]
  },
  {
   "cell_type": "code",
   "execution_count": 54,
   "metadata": {
    "slideshow": {
     "slide_type": "fragment"
    }
   },
   "outputs": [
    {
     "name": "stdout",
     "output_type": "stream",
     "text": [
      "句子数量为: 2\n",
      "['2024', '年', '工作坊', '在', '广州', '召开', '。']\n",
      "['欢迎', '大家', '参加', '工作坊', '！']\n"
     ]
    }
   ],
   "source": [
    "# 提取出来的特征直接索引即可\n",
    "print(\"句子数量为:\", docs.count_sentences())\n",
    "for i in range(docs.count_sentences()):\n",
    "    print(docs['tok/fine'][i])"
   ]
  },
  {
   "cell_type": "markdown",
   "metadata": {
    "slideshow": {
     "slide_type": "slide"
    }
   },
   "source": [
    "* 验证温度(temperature)参数对于模型生成的影响"
   ]
  },
  {
   "cell_type": "code",
   "execution_count": 55,
   "metadata": {
    "slideshow": {
     "slide_type": "fragment"
    }
   },
   "outputs": [
    {
     "name": "stdout",
     "output_type": "stream",
     "text": [
      "===============随机搜索, 温度=0.3===============\n",
      "iteration 0: 欢 迎 参 加 的 是 一 个 朋 友 的 婚 礼 ， 在 这 里 举 行 的 ， 地 方 不\n",
      "iteration 1: 欢 迎 参 加 乐 队 的 演 出 ， 很 有 意 思 ， 很 有 意 思 ， 很 有 意 思\n",
      "iteration 2: 欢 迎 参 加 来 自 全 球 的 各 种 活 动 ， 有 机 会 去 看 看 ， 也 有 机\n",
      "iteration 3: 欢 迎 参 加 的 一 个 活 动 ， 去 的 时 候 是 下 午 ， 人 不 多 ， 环 境\n",
      "iteration 4: 欢 迎 参 加 拉 丁 舞 比 赛 ， 是 一 种 什 么 样 的 体 验 ？ 欢 迎 参 加\n",
      "===============随机搜索, 温度=1.0===============\n",
      "iteration 0: 欢 迎 参 加 来 了 解 一 下 这 款 游 戏 ， 这 款 游 戏 有 哪 些 地 方 值\n",
      "iteration 1: 欢 迎 参 加 、 给 力 购 物 、 给 力 商 品 。 于 书 籍 之 中 的 品 质\n",
      "iteration 2: 欢 迎 参 加 书 展 来 看. 一 直 很 喜 欢 刘 老 师 的 书 很 不 错 的.\n",
      "iteration 3: 欢 迎 参 加 宝 宝 的 百 科 全 书 百 科 全 书 中 的 全 部 内 容 都 包 括\n",
      "iteration 4: 欢 迎 参 加 婚 礼 的 ~ ~ 感 觉 环 境 很 好 ！ 里 面 好 多 好 吃 的 ，\n"
     ]
    }
   ],
   "source": [
    "model_name = 'uer/gpt2-chinese-cluecorpussmall'\n",
    "model = AutoModelForCausalLM.from_pretrained(model_name)# , torch_dtype=torch.float16,)\n",
    "model = model.eval()\n",
    "tokenizer = BertTokenizer.from_pretrained(model_name,use_fast=False)\n",
    "input_ids = tokenizer(['欢迎参加'], return_tensors=\"pt\").input_ids\n",
    "if torch.cuda.is_available():\n",
    "  input_ids = input_ids.to('cuda')\n",
    "  model = model.to('cuda')\n",
    "\n",
    "# random sample\n",
    "for t in [0.3, 1.0]:\n",
    "    print(\"=\"*15 + f\"随机搜索, 温度={t}\" + \"=\"*15)\n",
    "    for i in range(5):\n",
    "        generate_input = {\n",
    "            \"input_ids\":input_ids, \"max_new_tokens\":20,\n",
    "            \"do_sample\":True, \"top_k\":50, \"top_p\":0.95, \"temperature\":t,\n",
    "            \"eos_token_id\":tokenizer.eos_token_id,\n",
    "            \"bos_token_id\":tokenizer.bos_token_id,\n",
    "            \"pad_token_id\":tokenizer.unk_token_id,\n",
    "        }\n",
    "        generate_ids  = model.generate(**generate_input)\n",
    "        text = tokenizer.decode(generate_ids[0], skip_special_tokens=True)\n",
    "        print(f\"iteration {i}: {text}\")\n",
    "  \n"
   ]
  },
  {
   "cell_type": "code",
   "execution_count": 56,
   "metadata": {
    "slideshow": {
     "slide_type": "slide"
    }
   },
   "outputs": [
    {
     "name": "stdout",
     "output_type": "stream",
     "text": [
      "===============贪婪搜索===============\n",
      "iteration 0: 欢 迎 参 加 的 是 一 个 朋 友 的 婚 礼 ， 环 境 很 好 ， 菜 品 也 很 好\n",
      "iteration 1: 欢 迎 参 加 的 是 一 个 朋 友 的 婚 礼 ， 环 境 很 好 ， 菜 品 也 很 好\n",
      "iteration 2: 欢 迎 参 加 的 是 一 个 朋 友 的 婚 礼 ， 环 境 很 好 ， 菜 品 也 很 好\n",
      "iteration 3: 欢 迎 参 加 的 是 一 个 朋 友 的 婚 礼 ， 环 境 很 好 ， 菜 品 也 很 好\n",
      "iteration 4: 欢 迎 参 加 的 是 一 个 朋 友 的 婚 礼 ， 环 境 很 好 ， 菜 品 也 很 好\n"
     ]
    }
   ],
   "source": [
    "# greedy search\n",
    "print(\"=\"*15 + f\"贪婪搜索\" + \"=\"*15)\n",
    "for i in range(5):\n",
    "    generate_input = {\n",
    "        \"input_ids\":input_ids, \"max_new_tokens\":20, \"do_sample\":False,\n",
    "        \"eos_token_id\":tokenizer.eos_token_id,\n",
    "        \"bos_token_id\":tokenizer.bos_token_id,\n",
    "        \"pad_token_id\":tokenizer.unk_token_id,\n",
    "    }\n",
    "    generate_ids  = model.generate(**generate_input)\n",
    "    text = tokenizer.decode(generate_ids[0], skip_special_tokens=True)\n",
    "    print(f\"iteration {i}: {text}\")"
   ]
  }
 ],
 "metadata": {
  "celltoolbar": "幻灯片",
  "kernelspec": {
   "display_name": "Python 3 (ipykernel)",
   "language": "python",
   "name": "python3"
  },
  "language_info": {
   "codemirror_mode": {
    "name": "ipython",
    "version": 3
   },
   "file_extension": ".py",
   "mimetype": "text/x-python",
   "name": "python",
   "nbconvert_exporter": "python",
   "pygments_lexer": "ipython3",
   "version": "3.8.10"
  },
  "vscode": {
   "interpreter": {
    "hash": "dd65688f949d2ad1e75c78c2f6ddcc07f0a0c35d5c97b06568571046f968236a"
   }
  }
 },
 "nbformat": 4,
 "nbformat_minor": 2
}
